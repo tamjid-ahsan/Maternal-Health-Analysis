{
 "cells": [
  {
   "cell_type": "markdown",
   "metadata": {},
   "source": [
    "<a id='top'></a>\n",
    "Info:\n",
    "\n",
    "- **Please run cells in order, otherwise analysis *WILL* be inaccurate.**\n",
    "- Some expalinations are provided in `Supplementary content` section.\n",
    "- Links to data source is given, which goes thorugh internet. But data is avaiable locally in `data` folder at root.\n",
    "- There are hyperlinks to different section of the notebooks as well, which does not go through internet. Intended for quick navigation through the notebook.\n",
    "- Long visualization codes are functionalized and put at the setup section. Functions used for analysis are placed near from where they are called.\n",
    "- All imports needed for the analysis is in one code cell block.\n",
    "- Codes are written from scratch, with the help of a lot of web searching and going through documentation of numpy, pandas, and scikit-learn, to name a few.\n",
    "- It takes around 15 seconds to run all the cells of the notebook.\n",
    "- Code blocks are formatted conforming to [*pep8*](https://peps.python.org/pep-0008/) standard.\n",
    "___"
   ]
  },
  {
   "cell_type": "markdown",
   "metadata": {},
   "source": [
    "# Maternal Health Risk Assessment"
   ]
  },
  {
   "cell_type": "markdown",
   "metadata": {},
   "source": [
    "# Motivating the Dataset Choice\n",
    "\n",
    "The high prevalence of birth complications in rural Bangladesh is a critical public health concern. According to [World Bank Data](https://data.worldbank.org/indicator/SH.STA.MMRT?locations=BD), Bangladesh faces a maternal mortality rate of approximately 173 per 100,000 live births. This significantly exceeds the Sustainable Development Goal (SDG) target of reducing the global maternal mortality ratio to 70 by 2030. The dataset selection process was driven by a pressing need to address maternal health challenges in rural Bangladesh. With alarming rates of maternal mortality and significant barriers to healthcare access, the country is lagging behind global targets. \n",
    "\n",
    "The dataset, sourced from the UCI Machine Learning Repository titled [Maternal Health Risk Data Set](https://archive.ics.uci.edu/ml/datasets/Maternal+Health+Risk+Data+Set), offers insights from various healthcare facilities and maternal health centers across rural Bangladesh. By analyzing this data, we aim to identify risk factors and develop a model to categorize expecting mothers into different risk clusters. This approach can inform targeted interventions, ensuring that vulnerable women receive the necessary care and support during pregnancy, ultimately reducing maternal mortality rates."
   ]
  },
  {
   "cell_type": "markdown",
   "metadata": {},
   "source": [
    "# The Analysis Goal : Categorizing expecting mothers in Different Risk Clusters\n",
    "\n",
    "The goal of this notebook analysis is to do some preliminary data analysis to understand the data (data profiling), data visualization to get insights and preparing the data for `Logistic Regression` taught in `CSE-6040` and lastly using `scikit-learn`'s own implementation of [logistic regression](https://scikit-learn.org/stable/modules/generated/sklearn.linear_model.LogisticRegression.html) library to cluster the sample data points.\n",
    "\n",
    "This initial analysis could pave the way for a model capable of classifying individual women into these risk clusters. Such a model could then be used to prioritize additional care for high-risk mothers during pregnancy, potentially leading to a decrease in childbirth mortality rates."
   ]
  },
  {
   "cell_type": "markdown",
   "metadata": {},
   "source": [
    "# Dataset Description\n",
    "\n",
    "- Data Set Information:\n",
    "\n",
    "`Age`, Systolic Blood Pressure as `SystolicBP`, Diastolic BP as `DiastolicBP`, Blood Sugar as `BS`, Body Temperature as `BodyTemp`, `HeartRate` and `RiskLevel`. All these are the responsible and significant risk factors for maternal mortality, which is one of the main concern of [Sustainable Development Goals](https://sdgs.un.org/goals) of [United Nations](https://en.wikipedia.org/wiki/United_Nations).\n",
    "\n",
    "<br>\n",
    "- Attribute Information:\n",
    "    - Independent variables (a.k.a. predictor)<sup>1</sup>\n",
    "        1. Age: Any ages in years when a women during pregnant.\n",
    "        2. SystolicBP: Upper value of Blood Pressure in mmHg, another significant attribute during pregnancy.\n",
    "        3. DiastolicBP: Lower value of Blood Pressure in mmHg, another significant attribute during pregnancy.\n",
    "        4. BS: Blood glucose levels is in terms of a molar concentration, mmol/L.\n",
    "        5. HeartRate: A normal resting heart rate in beats per minute.\n",
    "<br>\n",
    "<br>\n",
    "    - Dependent variable (a.k.a. goal)<sup>2</sup>\n",
    "        6. Risk Level: Predicted Risk Intensity Level during pregnancy considering the other predictor attributes.\n",
    "\n",
    "\n",
    "\n",
    "<br>\n",
    "Note:\n",
    "1. The dependent variable is the variable about which predictions or explanations are being sought.\n",
    "2. Independent variables are those that are used to generate predictions about or to account for the variation in the dependent variable."
   ]
  },
  {
   "cell_type": "markdown",
   "metadata": {},
   "source": [
    "# Setup\n",
    "Run the following code cell to load the utilities and functions used for analysis and visualization "
   ]
  },
  {
   "cell_type": "code",
   "execution_count": 1,
   "metadata": {
    "collapsed": true
   },
   "outputs": [],
   "source": [
    "# data manipulation\n",
    "import pandas as pd\n",
    "import numpy as np\n",
    "# visualization\n",
    "import matplotlib.pyplot as plt\n",
    "import seaborn as sns\n",
    "# ML\n",
    "from sklearn.model_selection import train_test_split\n",
    "from sklearn.linear_model import LogisticRegression\n",
    "from sklearn.metrics import accuracy_score"
   ]
  },
  {
   "cell_type": "code",
   "execution_count": 2,
   "metadata": {
    "collapsed": true
   },
   "outputs": [],
   "source": [
    "# functions used for visualizations are in this cell block\n",
    "\n",
    "\n",
    "def visuals(q: str, title: str, col: str = \"Age\", palette=\"hls\") -> None:\n",
    "    \"\"\"\n",
    "    Creates a horizontal bar chart visualization based on a query and column selection.\n",
    "\n",
    "    Args:\n",
    "        q (str): A string representing the query to filter the data in 'df' DataFrame.\n",
    "        title (str): The title to display for the chart.\n",
    "        col (str, optional): The column name from 'df' to use for the x-axis (default: \"Age\").\n",
    "\n",
    "    Returns:\n",
    "        None: This function does not return any value, it creates and displays the chart.\n",
    "    \"\"\"\n",
    "    # Create the seaborn barplot\n",
    "    ax = sns.barplot(\n",
    "        y=\"index\",\n",
    "        x=\"Count\",\n",
    "        data=df.query(q)[col].value_counts().sort_index().reset_index(\n",
    "            name=\"Count\"),\n",
    "        orient=\"h\",\n",
    "        palette=palette,\n",
    "    )\n",
    "\n",
    "    # Add bar labels with percentage formatting\n",
    "    for container in ax.containers:\n",
    "        ax.bar_label(container, fmt=\"%.f\", label_type=\"edge\", padding=2)\n",
    "\n",
    "    # Customize plot elements\n",
    "    plt.title(title)\n",
    "    plt.xlabel(\"\")\n",
    "    plt.ylabel(col)\n",
    "    plt.xticks([])\n",
    "    sns.despine()\n",
    "    plt.tight_layout()\n",
    "    plt.show()\n",
    "\n",
    "\n",
    "def plotPerColumnDistribution(df: pd.DataFrame,\n",
    "                              nGraphShown: int,\n",
    "                              nGraphPerRow: int,\n",
    "                              figsize: tuple = (3, 2),\n",
    "                              x_rotation: int = 90,\n",
    "                              title_fontsize: int = 12,\n",
    "                              show_x_lable: bool = False,\n",
    "                              numerical_columns_bar_color: str = 'g',\n",
    "                              categorical_columns_bar_color: str = 'purple',\n",
    "                              kde_color: str = 'r',\n",
    "                              debug: bool = False) -> None:\n",
    "    \"\"\"\n",
    "    Creates a grid of subplots to visualize the distribution of each column in a pandas DataFrame.\n",
    "\n",
    "    Args:\n",
    "        df (pd.DataFrame): The DataFrame containing the data for visualization.\n",
    "        nGraphShown (int, optional): The maximum number of columns to display. \n",
    "        nGraphPerRow (int, optional): The number of graphs to display per row in the grid.\n",
    "        figsize (tuple, optional): The desired figure size in inches. Defaults to (3, 2). \n",
    "                                    Adjust based on the number of columns.\n",
    "        x_rotation (int, optional): The rotation angle for x-axis labels (in degrees). \n",
    "                                    Defaults to 90 for better readability with categorical data.\n",
    "        title_fontsize (int, optional): The font size for plot titles. Defaults to 12.\n",
    "        show_x_lable (bool, optional): Whether to display the x-axis label (\"values\"). Defaults to False.\n",
    "        numerical_columns_bar_color (str, optional): The color for histogram bars of numerical columns. \n",
    "                                    Defaults to 'g' (green).\n",
    "        categorical_columns_bar_color (str, optional): The color for bars of categorical columns. Defaults to 'purple'.\n",
    "        kde_color (str, optional): The color for the KDE line in numerical column plots. Defaults to 'r' (red).\n",
    "        debug (bool,  optional): Enables printing of intermediate values for debugging purposes. Defaults to False.\n",
    "\n",
    "    Returns:\n",
    "        None: This function does not return a value, it creates and displays the plot grid.\n",
    "\n",
    "    Note:\n",
    "        - This function attempts to automatically detect categorical columns based on the number of unique values.\n",
    "        - Columns with a very high number of unique values (more than 50) are excluded for performance reasons.\n",
    "    \"\"\"\n",
    "    nunique = df.nunique()\n",
    "    df = df[[col for col in df if nunique[col] > 1 and nunique[col] < 50]]\n",
    "    if debug:\n",
    "        print(f\"{df = }\")\n",
    "\n",
    "    nRow, nCol = df.shape\n",
    "    if debug:\n",
    "        print(f\"{nRow = }, {nCol = }\")\n",
    "\n",
    "    columnNames = list(df)\n",
    "    if debug:\n",
    "        print(f\"{columnNames = }\")\n",
    "\n",
    "    nGraphRow = round((nCol + nGraphPerRow - 1) /\n",
    "                      nGraphPerRow)  # this may be a roblemetic line\n",
    "    if debug:\n",
    "        print(f\"{nGraphRow = }\")\n",
    "\n",
    "    width, height = figsize  # in inches\n",
    "    plt.figure(num=None,\n",
    "               figsize=(width * nGraphPerRow, height * nGraphRow),\n",
    "               dpi=80,\n",
    "               facecolor='w',\n",
    "               edgecolor='k')\n",
    "\n",
    "    for i in range(min(nCol, nGraphShown)):\n",
    "        plt.subplot(nGraphRow, nGraphPerRow, i + 1)\n",
    "        columnDf = df.iloc[:, i]\n",
    "        if debug:\n",
    "            display(f\"{columnDf = }\")\n",
    "\n",
    "        if (not np.issubdtype(type(columnDf.iloc[0]), np.number)):\n",
    "            valueCounts = columnDf.value_counts()\n",
    "            valueCounts.plot.bar(\n",
    "                alpha=.5,\n",
    "                color=categorical_columns_bar_color,\n",
    "                title=f'{columnNames[i]}\\n(Categorical - column {i})',\n",
    "                fontsize=title_fontsize)\n",
    "            if show_x_lable:\n",
    "                plt.xlabel('values')\n",
    "            plt.ylabel('count')\n",
    "        else:\n",
    "            ax = columnDf.hist(alpha=.5, color=numerical_columns_bar_color)\n",
    "            if show_x_lable:\n",
    "                plt.xlabel('values')\n",
    "            plt.ylabel('count')\n",
    "            ax1 = ax.twinx()\n",
    "            columnDf.plot.kde(ax=ax1, color=kde_color)\n",
    "            ax.grid()\n",
    "            plt.title(f'{columnNames[i]}\\n(Numeric - column {i})',\n",
    "                      fontsize=title_fontsize)\n",
    "            plt.ylabel('density')\n",
    "\n",
    "        plt.xticks(rotation=x_rotation)\n",
    "    plt.tight_layout()\n",
    "    plt.show()\n",
    "\n",
    "\n",
    "def hist_with_kde(s: pd.Series,\n",
    "                  figsize: tuple = (3, 2),\n",
    "                  bar_color: str = 'g',\n",
    "                  kde_color: str = 'r') -> None:\n",
    "    \"\"\"\n",
    "    Creates a combined histogram and KDE plot for a pandas Series.\n",
    "\n",
    "    Args:\n",
    "        s (pd.Series): The pandas Series to create the plot for.\n",
    "        figsize (tuple, optional): The desired figure size in inches. Defaults to (3, 2).\n",
    "        bar_color (str, optional): The color for the histogram bars. Defaults to 'g' (green).\n",
    "        kde_color (str, optional): The color for the KDE line. Defaults to 'r' (red).\n",
    "\n",
    "    Returns:\n",
    "        None: This function does not return a value, it creates and displays the plot.\n",
    "    \"\"\"\n",
    "    # Create a figure and primary axis for the histogram\n",
    "    fig, ax = plt.subplots(figsize=figsize)\n",
    "    # Create the histogram with user-specified color and semi-transparent fill\n",
    "    ax = s.hist(alpha=.5, color=bar_color)\n",
    "    plt.xlabel('Values')\n",
    "    plt.ylabel('Count')\n",
    "    # Create a twin axis for the KDE plot\n",
    "    ax1 = ax.twinx()\n",
    "    # Plot the KDE on the twin axis with user-specified color\n",
    "    s.plot.kde(ax=ax1, color=kde_color)\n",
    "    # Add gridlines to the primary axis\n",
    "    ax.grid()\n",
    "    # Set plot title using the Series name\n",
    "    plt.title(f'{s.name}', fontsize=20)\n",
    "    # Adjust spacing to prevent overlapping elements\n",
    "    plt.tight_layout()\n",
    "    # Display the plot\n",
    "    plt.show()\n",
    "\n",
    "\n",
    "def report(X_test, y_test, y_pred, model) -> None:\n",
    "    \"\"\"\n",
    "    Generates and displays a confusion matrix and classification report for a classification model.\n",
    "\n",
    "    Args:\n",
    "      X_test (np.ndarray): The test data features.\n",
    "      y_test (np.ndarray): The true labels for the test data.\n",
    "      y_pred (np.ndarray): The predicted labels from the classification model.\n",
    "      model (sklearn model): The trained classification model.\n",
    "\n",
    "    Returns:\n",
    "      None: This function does not return a value.\n",
    "    \"\"\"\n",
    "    from sklearn.metrics import ConfusionMatrixDisplay, classification_report\n",
    "\n",
    "    # Create and display confusion matrix\n",
    "    ConfusionMatrixDisplay.from_estimator(\n",
    "        model,\n",
    "        X_test,\n",
    "        y_test,\n",
    "        cmap=\"BuPu\",\n",
    "        normalize=\"true\",\n",
    "    )\n",
    "    plt.title(\"Confusion Matrix\")\n",
    "    plt.tight_layout()\n",
    "    plt.show()\n",
    "\n",
    "    # Print classification report\n",
    "    print(classification_report(y_test, y_pred))\n",
    "\n",
    "\n",
    "def bold_print(s):\n",
    "    import sys\n",
    "    return sys.stdout.write(\"\\033[1m\" + s + \"\\033[0m\")"
   ]
  },
  {
   "cell_type": "markdown",
   "metadata": {},
   "source": [
    "# Data OBTAIN and SCRUBBING\n",
    "\n",
    "[Source](https://archive.ics.uci.edu/ml/datasets/Maternal+Health+Risk+Data+Set): Marzia Ahmed ([Email](ahmed.marzia32@gmail.com)). Institution: Daffodil International University, Dhaka, Bangladesh. "
   ]
  },
  {
   "cell_type": "markdown",
   "metadata": {},
   "source": [
    "First load the dataset which is inside the workspace inside `data` folder, named `Maternal Health Risk Data Set.csv`, then try to see if the data contains any anomaly such as duplicates or null values. "
   ]
  },
  {
   "cell_type": "markdown",
   "metadata": {},
   "source": [
    "## Load"
   ]
  },
  {
   "cell_type": "code",
   "execution_count": 3,
   "metadata": {
    "collapsed": true
   },
   "outputs": [],
   "source": [
    "df = pd.read_csv(\"./data/Maternal Health Risk Data Set.csv\")"
   ]
  },
  {
   "cell_type": "code",
   "execution_count": 4,
   "metadata": {},
   "outputs": [
    {
     "name": "stdout",
     "output_type": "stream",
     "text": [
      "Data set contains 1014 observations and 7 attributes.\n",
      "Columns of the dataset: 'Age', 'SystolicBP', 'DiastolicBP', 'BS', 'BodyTemp', 'HeartRate', 'RiskLevel'.\n",
      "\t6 Numeric column:\t['Age', 'SystolicBP', 'DiastolicBP', 'BS', 'BodyTemp', 'HeartRate']\n",
      "\t1 Categorical column:\t['RiskLevel']\n"
     ]
    }
   ],
   "source": [
    "# data description\n",
    "print(\"Data set contains {} observations and {} attributes.\".format(*df.shape))\n",
    "print(f\"\"\"Columns of the dataset: {str(df.columns.to_list())[1:-1]}.\"\"\")\n",
    "\n",
    "nume_cols: list = df.select_dtypes(include=\"number\").columns.to_list()\n",
    "cate_cols: list = df.select_dtypes(include=\"object\").columns.to_list()\n",
    "print(f\"\\t{len(nume_cols)} Numeric column:\\t{nume_cols}\")\n",
    "print(f\"\\t{len(cate_cols)} Categorical column:\\t{cate_cols}\")"
   ]
  },
  {
   "cell_type": "markdown",
   "metadata": {},
   "source": [
    "`RiskLevel` column is the dependent variable."
   ]
  },
  {
   "cell_type": "code",
   "execution_count": 5,
   "metadata": {},
   "outputs": [
    {
     "name": "stdout",
     "output_type": "stream",
     "text": [
      "<class 'pandas.core.frame.DataFrame'>\n",
      "RangeIndex: 1014 entries, 0 to 1013\n",
      "Data columns (total 7 columns):\n",
      " #   Column       Non-Null Count  Dtype  \n",
      "---  ------       --------------  -----  \n",
      " 0   Age          1014 non-null   int64  \n",
      " 1   SystolicBP   1014 non-null   int64  \n",
      " 2   DiastolicBP  1014 non-null   int64  \n",
      " 3   BS           1014 non-null   float64\n",
      " 4   BodyTemp     1014 non-null   float64\n",
      " 5   HeartRate    1014 non-null   int64  \n",
      " 6   RiskLevel    1014 non-null   object \n",
      "dtypes: float64(2), int64(4), object(1)\n",
      "memory usage: 55.6+ KB\n"
     ]
    }
   ],
   "source": [
    "# data type of each columns\n",
    "df.info()"
   ]
  },
  {
   "cell_type": "code",
   "execution_count": 6,
   "metadata": {},
   "outputs": [
    {
     "data": {
      "text/html": [
       "<div>\n",
       "<style scoped>\n",
       "    .dataframe tbody tr th:only-of-type {\n",
       "        vertical-align: middle;\n",
       "    }\n",
       "\n",
       "    .dataframe tbody tr th {\n",
       "        vertical-align: top;\n",
       "    }\n",
       "\n",
       "    .dataframe thead th {\n",
       "        text-align: right;\n",
       "    }\n",
       "</style>\n",
       "<table border=\"1\" class=\"dataframe\">\n",
       "  <thead>\n",
       "    <tr style=\"text-align: right;\">\n",
       "      <th></th>\n",
       "      <th>Age</th>\n",
       "      <th>SystolicBP</th>\n",
       "      <th>DiastolicBP</th>\n",
       "      <th>BS</th>\n",
       "      <th>BodyTemp</th>\n",
       "      <th>HeartRate</th>\n",
       "      <th>RiskLevel</th>\n",
       "    </tr>\n",
       "  </thead>\n",
       "  <tbody>\n",
       "    <tr>\n",
       "      <th>951</th>\n",
       "      <td>17</td>\n",
       "      <td>85</td>\n",
       "      <td>60</td>\n",
       "      <td>7.5</td>\n",
       "      <td>102.0</td>\n",
       "      <td>86</td>\n",
       "      <td>low risk</td>\n",
       "    </tr>\n",
       "    <tr>\n",
       "      <th>615</th>\n",
       "      <td>34</td>\n",
       "      <td>110</td>\n",
       "      <td>70</td>\n",
       "      <td>7.0</td>\n",
       "      <td>98.0</td>\n",
       "      <td>80</td>\n",
       "      <td>high risk</td>\n",
       "    </tr>\n",
       "    <tr>\n",
       "      <th>554</th>\n",
       "      <td>55</td>\n",
       "      <td>140</td>\n",
       "      <td>95</td>\n",
       "      <td>19.0</td>\n",
       "      <td>98.0</td>\n",
       "      <td>77</td>\n",
       "      <td>high risk</td>\n",
       "    </tr>\n",
       "    <tr>\n",
       "      <th>796</th>\n",
       "      <td>23</td>\n",
       "      <td>130</td>\n",
       "      <td>70</td>\n",
       "      <td>6.8</td>\n",
       "      <td>98.0</td>\n",
       "      <td>78</td>\n",
       "      <td>mid risk</td>\n",
       "    </tr>\n",
       "    <tr>\n",
       "      <th>282</th>\n",
       "      <td>45</td>\n",
       "      <td>120</td>\n",
       "      <td>95</td>\n",
       "      <td>7.7</td>\n",
       "      <td>98.0</td>\n",
       "      <td>66</td>\n",
       "      <td>low risk</td>\n",
       "    </tr>\n",
       "    <tr>\n",
       "      <th>372</th>\n",
       "      <td>60</td>\n",
       "      <td>120</td>\n",
       "      <td>85</td>\n",
       "      <td>15.0</td>\n",
       "      <td>98.0</td>\n",
       "      <td>60</td>\n",
       "      <td>mid risk</td>\n",
       "    </tr>\n",
       "    <tr>\n",
       "      <th>302</th>\n",
       "      <td>48</td>\n",
       "      <td>120</td>\n",
       "      <td>80</td>\n",
       "      <td>11.0</td>\n",
       "      <td>98.0</td>\n",
       "      <td>88</td>\n",
       "      <td>high risk</td>\n",
       "    </tr>\n",
       "    <tr>\n",
       "      <th>821</th>\n",
       "      <td>31</td>\n",
       "      <td>120</td>\n",
       "      <td>60</td>\n",
       "      <td>6.1</td>\n",
       "      <td>98.0</td>\n",
       "      <td>76</td>\n",
       "      <td>mid risk</td>\n",
       "    </tr>\n",
       "    <tr>\n",
       "      <th>642</th>\n",
       "      <td>50</td>\n",
       "      <td>120</td>\n",
       "      <td>80</td>\n",
       "      <td>7.0</td>\n",
       "      <td>98.0</td>\n",
       "      <td>70</td>\n",
       "      <td>mid risk</td>\n",
       "    </tr>\n",
       "    <tr>\n",
       "      <th>961</th>\n",
       "      <td>40</td>\n",
       "      <td>160</td>\n",
       "      <td>100</td>\n",
       "      <td>19.0</td>\n",
       "      <td>98.0</td>\n",
       "      <td>77</td>\n",
       "      <td>high risk</td>\n",
       "    </tr>\n",
       "    <tr>\n",
       "      <th>830</th>\n",
       "      <td>22</td>\n",
       "      <td>120</td>\n",
       "      <td>90</td>\n",
       "      <td>7.5</td>\n",
       "      <td>98.0</td>\n",
       "      <td>82</td>\n",
       "      <td>mid risk</td>\n",
       "    </tr>\n",
       "    <tr>\n",
       "      <th>117</th>\n",
       "      <td>55</td>\n",
       "      <td>140</td>\n",
       "      <td>100</td>\n",
       "      <td>18.0</td>\n",
       "      <td>98.0</td>\n",
       "      <td>90</td>\n",
       "      <td>high risk</td>\n",
       "    </tr>\n",
       "    <tr>\n",
       "      <th>362</th>\n",
       "      <td>40</td>\n",
       "      <td>160</td>\n",
       "      <td>100</td>\n",
       "      <td>19.0</td>\n",
       "      <td>98.0</td>\n",
       "      <td>77</td>\n",
       "      <td>high risk</td>\n",
       "    </tr>\n",
       "    <tr>\n",
       "      <th>593</th>\n",
       "      <td>35</td>\n",
       "      <td>140</td>\n",
       "      <td>100</td>\n",
       "      <td>7.5</td>\n",
       "      <td>98.0</td>\n",
       "      <td>66</td>\n",
       "      <td>high risk</td>\n",
       "    </tr>\n",
       "    <tr>\n",
       "      <th>760</th>\n",
       "      <td>21</td>\n",
       "      <td>90</td>\n",
       "      <td>60</td>\n",
       "      <td>6.9</td>\n",
       "      <td>98.0</td>\n",
       "      <td>86</td>\n",
       "      <td>mid risk</td>\n",
       "    </tr>\n",
       "  </tbody>\n",
       "</table>\n",
       "</div>"
      ],
      "text/plain": [
       "     Age  SystolicBP  DiastolicBP    BS  BodyTemp  HeartRate  RiskLevel\n",
       "951   17          85           60   7.5     102.0         86   low risk\n",
       "615   34         110           70   7.0      98.0         80  high risk\n",
       "554   55         140           95  19.0      98.0         77  high risk\n",
       "796   23         130           70   6.8      98.0         78   mid risk\n",
       "282   45         120           95   7.7      98.0         66   low risk\n",
       "372   60         120           85  15.0      98.0         60   mid risk\n",
       "302   48         120           80  11.0      98.0         88  high risk\n",
       "821   31         120           60   6.1      98.0         76   mid risk\n",
       "642   50         120           80   7.0      98.0         70   mid risk\n",
       "961   40         160          100  19.0      98.0         77  high risk\n",
       "830   22         120           90   7.5      98.0         82   mid risk\n",
       "117   55         140          100  18.0      98.0         90  high risk\n",
       "362   40         160          100  19.0      98.0         77  high risk\n",
       "593   35         140          100   7.5      98.0         66  high risk\n",
       "760   21          90           60   6.9      98.0         86   mid risk"
      ]
     },
     "metadata": {},
     "output_type": "display_data"
    }
   ],
   "source": [
    "# lets take a look at 15 randomly chosen observations of the `df`\n",
    "display(df.sample(15))"
   ]
  },
  {
   "cell_type": "markdown",
   "metadata": {},
   "source": [
    "## `NaN` imputation"
   ]
  },
  {
   "cell_type": "code",
   "execution_count": 7,
   "metadata": {},
   "outputs": [
    {
     "data": {
      "text/plain": [
       "Age            0\n",
       "SystolicBP     0\n",
       "DiastolicBP    0\n",
       "BS             0\n",
       "BodyTemp       0\n",
       "HeartRate      0\n",
       "RiskLevel      0\n",
       "dtype: int64"
      ]
     },
     "execution_count": 7,
     "metadata": {},
     "output_type": "execute_result"
    }
   ],
   "source": [
    "# check if there is any nulls\n",
    "df.isna().sum()"
   ]
  },
  {
   "cell_type": "markdown",
   "metadata": {},
   "source": [
    "No Nulls, nothing to impute."
   ]
  },
  {
   "cell_type": "markdown",
   "metadata": {},
   "source": [
    "## Statistics"
   ]
  },
  {
   "cell_type": "code",
   "execution_count": 8,
   "metadata": {},
   "outputs": [
    {
     "data": {
      "text/html": [
       "<style type=\"text/css\">\n",
       "</style>\n",
       "<table id=\"T_3078a\">\n",
       "  <thead>\n",
       "    <tr>\n",
       "      <th class=\"blank level0\" >&nbsp;</th>\n",
       "      <th id=\"T_3078a_level0_col0\" class=\"col_heading level0 col0\" >count</th>\n",
       "      <th id=\"T_3078a_level0_col1\" class=\"col_heading level0 col1\" >unique</th>\n",
       "      <th id=\"T_3078a_level0_col2\" class=\"col_heading level0 col2\" >top</th>\n",
       "      <th id=\"T_3078a_level0_col3\" class=\"col_heading level0 col3\" >freq</th>\n",
       "      <th id=\"T_3078a_level0_col4\" class=\"col_heading level0 col4\" >mean</th>\n",
       "      <th id=\"T_3078a_level0_col5\" class=\"col_heading level0 col5\" >std</th>\n",
       "      <th id=\"T_3078a_level0_col6\" class=\"col_heading level0 col6\" >min</th>\n",
       "      <th id=\"T_3078a_level0_col7\" class=\"col_heading level0 col7\" >25%</th>\n",
       "      <th id=\"T_3078a_level0_col8\" class=\"col_heading level0 col8\" >50%</th>\n",
       "      <th id=\"T_3078a_level0_col9\" class=\"col_heading level0 col9\" >75%</th>\n",
       "      <th id=\"T_3078a_level0_col10\" class=\"col_heading level0 col10\" >max</th>\n",
       "    </tr>\n",
       "  </thead>\n",
       "  <tbody>\n",
       "    <tr>\n",
       "      <th id=\"T_3078a_level0_row0\" class=\"row_heading level0 row0\" >Age</th>\n",
       "      <td id=\"T_3078a_row0_col0\" class=\"data row0 col0\" >1,014.00</td>\n",
       "      <td id=\"T_3078a_row0_col1\" class=\"data row0 col1\" ></td>\n",
       "      <td id=\"T_3078a_row0_col2\" class=\"data row0 col2\" ></td>\n",
       "      <td id=\"T_3078a_row0_col3\" class=\"data row0 col3\" ></td>\n",
       "      <td id=\"T_3078a_row0_col4\" class=\"data row0 col4\" >29.87</td>\n",
       "      <td id=\"T_3078a_row0_col5\" class=\"data row0 col5\" >13.47</td>\n",
       "      <td id=\"T_3078a_row0_col6\" class=\"data row0 col6\" >10.00</td>\n",
       "      <td id=\"T_3078a_row0_col7\" class=\"data row0 col7\" >19.00</td>\n",
       "      <td id=\"T_3078a_row0_col8\" class=\"data row0 col8\" >26.00</td>\n",
       "      <td id=\"T_3078a_row0_col9\" class=\"data row0 col9\" >39.00</td>\n",
       "      <td id=\"T_3078a_row0_col10\" class=\"data row0 col10\" >70.00</td>\n",
       "    </tr>\n",
       "    <tr>\n",
       "      <th id=\"T_3078a_level0_row1\" class=\"row_heading level0 row1\" >SystolicBP</th>\n",
       "      <td id=\"T_3078a_row1_col0\" class=\"data row1 col0\" >1,014.00</td>\n",
       "      <td id=\"T_3078a_row1_col1\" class=\"data row1 col1\" ></td>\n",
       "      <td id=\"T_3078a_row1_col2\" class=\"data row1 col2\" ></td>\n",
       "      <td id=\"T_3078a_row1_col3\" class=\"data row1 col3\" ></td>\n",
       "      <td id=\"T_3078a_row1_col4\" class=\"data row1 col4\" >113.20</td>\n",
       "      <td id=\"T_3078a_row1_col5\" class=\"data row1 col5\" >18.40</td>\n",
       "      <td id=\"T_3078a_row1_col6\" class=\"data row1 col6\" >70.00</td>\n",
       "      <td id=\"T_3078a_row1_col7\" class=\"data row1 col7\" >100.00</td>\n",
       "      <td id=\"T_3078a_row1_col8\" class=\"data row1 col8\" >120.00</td>\n",
       "      <td id=\"T_3078a_row1_col9\" class=\"data row1 col9\" >120.00</td>\n",
       "      <td id=\"T_3078a_row1_col10\" class=\"data row1 col10\" >160.00</td>\n",
       "    </tr>\n",
       "    <tr>\n",
       "      <th id=\"T_3078a_level0_row2\" class=\"row_heading level0 row2\" >DiastolicBP</th>\n",
       "      <td id=\"T_3078a_row2_col0\" class=\"data row2 col0\" >1,014.00</td>\n",
       "      <td id=\"T_3078a_row2_col1\" class=\"data row2 col1\" ></td>\n",
       "      <td id=\"T_3078a_row2_col2\" class=\"data row2 col2\" ></td>\n",
       "      <td id=\"T_3078a_row2_col3\" class=\"data row2 col3\" ></td>\n",
       "      <td id=\"T_3078a_row2_col4\" class=\"data row2 col4\" >76.46</td>\n",
       "      <td id=\"T_3078a_row2_col5\" class=\"data row2 col5\" >13.89</td>\n",
       "      <td id=\"T_3078a_row2_col6\" class=\"data row2 col6\" >49.00</td>\n",
       "      <td id=\"T_3078a_row2_col7\" class=\"data row2 col7\" >65.00</td>\n",
       "      <td id=\"T_3078a_row2_col8\" class=\"data row2 col8\" >80.00</td>\n",
       "      <td id=\"T_3078a_row2_col9\" class=\"data row2 col9\" >90.00</td>\n",
       "      <td id=\"T_3078a_row2_col10\" class=\"data row2 col10\" >100.00</td>\n",
       "    </tr>\n",
       "    <tr>\n",
       "      <th id=\"T_3078a_level0_row3\" class=\"row_heading level0 row3\" >BS</th>\n",
       "      <td id=\"T_3078a_row3_col0\" class=\"data row3 col0\" >1,014.00</td>\n",
       "      <td id=\"T_3078a_row3_col1\" class=\"data row3 col1\" ></td>\n",
       "      <td id=\"T_3078a_row3_col2\" class=\"data row3 col2\" ></td>\n",
       "      <td id=\"T_3078a_row3_col3\" class=\"data row3 col3\" ></td>\n",
       "      <td id=\"T_3078a_row3_col4\" class=\"data row3 col4\" >8.73</td>\n",
       "      <td id=\"T_3078a_row3_col5\" class=\"data row3 col5\" >3.29</td>\n",
       "      <td id=\"T_3078a_row3_col6\" class=\"data row3 col6\" >6.00</td>\n",
       "      <td id=\"T_3078a_row3_col7\" class=\"data row3 col7\" >6.90</td>\n",
       "      <td id=\"T_3078a_row3_col8\" class=\"data row3 col8\" >7.50</td>\n",
       "      <td id=\"T_3078a_row3_col9\" class=\"data row3 col9\" >8.00</td>\n",
       "      <td id=\"T_3078a_row3_col10\" class=\"data row3 col10\" >19.00</td>\n",
       "    </tr>\n",
       "    <tr>\n",
       "      <th id=\"T_3078a_level0_row4\" class=\"row_heading level0 row4\" >BodyTemp</th>\n",
       "      <td id=\"T_3078a_row4_col0\" class=\"data row4 col0\" >1,014.00</td>\n",
       "      <td id=\"T_3078a_row4_col1\" class=\"data row4 col1\" ></td>\n",
       "      <td id=\"T_3078a_row4_col2\" class=\"data row4 col2\" ></td>\n",
       "      <td id=\"T_3078a_row4_col3\" class=\"data row4 col3\" ></td>\n",
       "      <td id=\"T_3078a_row4_col4\" class=\"data row4 col4\" >98.67</td>\n",
       "      <td id=\"T_3078a_row4_col5\" class=\"data row4 col5\" >1.37</td>\n",
       "      <td id=\"T_3078a_row4_col6\" class=\"data row4 col6\" >98.00</td>\n",
       "      <td id=\"T_3078a_row4_col7\" class=\"data row4 col7\" >98.00</td>\n",
       "      <td id=\"T_3078a_row4_col8\" class=\"data row4 col8\" >98.00</td>\n",
       "      <td id=\"T_3078a_row4_col9\" class=\"data row4 col9\" >98.00</td>\n",
       "      <td id=\"T_3078a_row4_col10\" class=\"data row4 col10\" >103.00</td>\n",
       "    </tr>\n",
       "    <tr>\n",
       "      <th id=\"T_3078a_level0_row5\" class=\"row_heading level0 row5\" >HeartRate</th>\n",
       "      <td id=\"T_3078a_row5_col0\" class=\"data row5 col0\" >1,014.00</td>\n",
       "      <td id=\"T_3078a_row5_col1\" class=\"data row5 col1\" ></td>\n",
       "      <td id=\"T_3078a_row5_col2\" class=\"data row5 col2\" ></td>\n",
       "      <td id=\"T_3078a_row5_col3\" class=\"data row5 col3\" ></td>\n",
       "      <td id=\"T_3078a_row5_col4\" class=\"data row5 col4\" >74.30</td>\n",
       "      <td id=\"T_3078a_row5_col5\" class=\"data row5 col5\" >8.09</td>\n",
       "      <td id=\"T_3078a_row5_col6\" class=\"data row5 col6\" >7.00</td>\n",
       "      <td id=\"T_3078a_row5_col7\" class=\"data row5 col7\" >70.00</td>\n",
       "      <td id=\"T_3078a_row5_col8\" class=\"data row5 col8\" >76.00</td>\n",
       "      <td id=\"T_3078a_row5_col9\" class=\"data row5 col9\" >80.00</td>\n",
       "      <td id=\"T_3078a_row5_col10\" class=\"data row5 col10\" >90.00</td>\n",
       "    </tr>\n",
       "    <tr>\n",
       "      <th id=\"T_3078a_level0_row6\" class=\"row_heading level0 row6\" >RiskLevel</th>\n",
       "      <td id=\"T_3078a_row6_col0\" class=\"data row6 col0\" >1,014.00</td>\n",
       "      <td id=\"T_3078a_row6_col1\" class=\"data row6 col1\" >3.00</td>\n",
       "      <td id=\"T_3078a_row6_col2\" class=\"data row6 col2\" >low risk</td>\n",
       "      <td id=\"T_3078a_row6_col3\" class=\"data row6 col3\" >406.00</td>\n",
       "      <td id=\"T_3078a_row6_col4\" class=\"data row6 col4\" ></td>\n",
       "      <td id=\"T_3078a_row6_col5\" class=\"data row6 col5\" ></td>\n",
       "      <td id=\"T_3078a_row6_col6\" class=\"data row6 col6\" ></td>\n",
       "      <td id=\"T_3078a_row6_col7\" class=\"data row6 col7\" ></td>\n",
       "      <td id=\"T_3078a_row6_col8\" class=\"data row6 col8\" ></td>\n",
       "      <td id=\"T_3078a_row6_col9\" class=\"data row6 col9\" ></td>\n",
       "      <td id=\"T_3078a_row6_col10\" class=\"data row6 col10\" ></td>\n",
       "    </tr>\n",
       "  </tbody>\n",
       "</table>\n"
      ],
      "text/plain": [
       "<pandas.io.formats.style.Styler at 0x7fd171f95e50>"
      ]
     },
     "execution_count": 8,
     "metadata": {},
     "output_type": "execute_result"
    }
   ],
   "source": [
    "df.describe(include=\"all\").T.infer_objects().style.format(na_rep='', thousands=\",\", precision=2)"
   ]
  },
  {
   "cell_type": "markdown",
   "metadata": {},
   "source": [
    "Observations:\n",
    "- `Age`: Large distribution of age range\n",
    "- `BS`: minimum is 6. All observations have relatively high blood sugar\n",
    "- `BodyTemp`: smaller range. \n",
    "- `HeartRate`: min value does not make sense, also the long tail of kde of that column suggest outliers. Will be explored in Cleaning section\n",
    "\n",
    "(Passes data sanity check, except `HeartRate`)\n",
    "\n",
    "> None of them have normal distribution\n",
    "\n",
    "Which can be observed from following visualization"
   ]
  },
  {
   "cell_type": "code",
   "execution_count": 9,
   "metadata": {},
   "outputs": [
    {
     "data": {
      "image/png": "[encoded data removed]",
      "text/plain": [
       "<Figure size 720x480 with 11 Axes>"
      ]
     },
     "metadata": {},
     "output_type": "display_data"
    }
   ],
   "source": [
    "plotPerColumnDistribution(df, len(df.columns), 3)"
   ]
  },
  {
   "cell_type": "markdown",
   "metadata": {},
   "source": [
    "<a id='duplicates'></a>\n",
    "## Duplicates \n"
   ]
  },
  {
   "cell_type": "code",
   "execution_count": 10,
   "metadata": {},
   "outputs": [
    {
     "name": "stdout",
     "output_type": "stream",
     "text": [
      "Found 562 duplicates.\n"
     ]
    }
   ],
   "source": [
    "print(f\"Found {df.duplicated().sum()} duplicates.\")"
   ]
  },
  {
   "cell_type": "code",
   "execution_count": 11,
   "metadata": {},
   "outputs": [
    {
     "name": "stdout",
     "output_type": "stream",
     "text": [
      "lets look at the duplicate observations\n"
     ]
    },
    {
     "data": {
      "text/html": [
       "<div>\n",
       "<style scoped>\n",
       "    .dataframe tbody tr th:only-of-type {\n",
       "        vertical-align: middle;\n",
       "    }\n",
       "\n",
       "    .dataframe tbody tr th {\n",
       "        vertical-align: top;\n",
       "    }\n",
       "\n",
       "    .dataframe thead th {\n",
       "        text-align: right;\n",
       "    }\n",
       "</style>\n",
       "<table border=\"1\" class=\"dataframe\">\n",
       "  <thead>\n",
       "    <tr style=\"text-align: right;\">\n",
       "      <th></th>\n",
       "      <th>Age</th>\n",
       "      <th>SystolicBP</th>\n",
       "      <th>DiastolicBP</th>\n",
       "      <th>BS</th>\n",
       "      <th>BodyTemp</th>\n",
       "      <th>HeartRate</th>\n",
       "      <th>RiskLevel</th>\n",
       "    </tr>\n",
       "  </thead>\n",
       "  <tbody>\n",
       "    <tr>\n",
       "      <th>67</th>\n",
       "      <td>19</td>\n",
       "      <td>120</td>\n",
       "      <td>80</td>\n",
       "      <td>7.0</td>\n",
       "      <td>98.0</td>\n",
       "      <td>70</td>\n",
       "      <td>mid risk</td>\n",
       "    </tr>\n",
       "    <tr>\n",
       "      <th>72</th>\n",
       "      <td>19</td>\n",
       "      <td>120</td>\n",
       "      <td>80</td>\n",
       "      <td>7.0</td>\n",
       "      <td>98.0</td>\n",
       "      <td>70</td>\n",
       "      <td>mid risk</td>\n",
       "    </tr>\n",
       "    <tr>\n",
       "      <th>97</th>\n",
       "      <td>19</td>\n",
       "      <td>120</td>\n",
       "      <td>80</td>\n",
       "      <td>7.0</td>\n",
       "      <td>98.0</td>\n",
       "      <td>70</td>\n",
       "      <td>mid risk</td>\n",
       "    </tr>\n",
       "    <tr>\n",
       "      <th>106</th>\n",
       "      <td>50</td>\n",
       "      <td>140</td>\n",
       "      <td>90</td>\n",
       "      <td>15.0</td>\n",
       "      <td>98.0</td>\n",
       "      <td>90</td>\n",
       "      <td>high risk</td>\n",
       "    </tr>\n",
       "    <tr>\n",
       "      <th>107</th>\n",
       "      <td>25</td>\n",
       "      <td>140</td>\n",
       "      <td>100</td>\n",
       "      <td>6.8</td>\n",
       "      <td>98.0</td>\n",
       "      <td>80</td>\n",
       "      <td>high risk</td>\n",
       "    </tr>\n",
       "    <tr>\n",
       "      <th>...</th>\n",
       "      <td>...</td>\n",
       "      <td>...</td>\n",
       "      <td>...</td>\n",
       "      <td>...</td>\n",
       "      <td>...</td>\n",
       "      <td>...</td>\n",
       "      <td>...</td>\n",
       "    </tr>\n",
       "    <tr>\n",
       "      <th>1009</th>\n",
       "      <td>22</td>\n",
       "      <td>120</td>\n",
       "      <td>60</td>\n",
       "      <td>15.0</td>\n",
       "      <td>98.0</td>\n",
       "      <td>80</td>\n",
       "      <td>high risk</td>\n",
       "    </tr>\n",
       "    <tr>\n",
       "      <th>1010</th>\n",
       "      <td>55</td>\n",
       "      <td>120</td>\n",
       "      <td>90</td>\n",
       "      <td>18.0</td>\n",
       "      <td>98.0</td>\n",
       "      <td>60</td>\n",
       "      <td>high risk</td>\n",
       "    </tr>\n",
       "    <tr>\n",
       "      <th>1011</th>\n",
       "      <td>35</td>\n",
       "      <td>85</td>\n",
       "      <td>60</td>\n",
       "      <td>19.0</td>\n",
       "      <td>98.0</td>\n",
       "      <td>86</td>\n",
       "      <td>high risk</td>\n",
       "    </tr>\n",
       "    <tr>\n",
       "      <th>1012</th>\n",
       "      <td>43</td>\n",
       "      <td>120</td>\n",
       "      <td>90</td>\n",
       "      <td>18.0</td>\n",
       "      <td>98.0</td>\n",
       "      <td>70</td>\n",
       "      <td>high risk</td>\n",
       "    </tr>\n",
       "    <tr>\n",
       "      <th>1013</th>\n",
       "      <td>32</td>\n",
       "      <td>120</td>\n",
       "      <td>65</td>\n",
       "      <td>6.0</td>\n",
       "      <td>101.0</td>\n",
       "      <td>76</td>\n",
       "      <td>mid risk</td>\n",
       "    </tr>\n",
       "  </tbody>\n",
       "</table>\n",
       "<p>562 rows × 7 columns</p>\n",
       "</div>"
      ],
      "text/plain": [
       "      Age  SystolicBP  DiastolicBP    BS  BodyTemp  HeartRate  RiskLevel\n",
       "67     19         120           80   7.0      98.0         70   mid risk\n",
       "72     19         120           80   7.0      98.0         70   mid risk\n",
       "97     19         120           80   7.0      98.0         70   mid risk\n",
       "106    50         140           90  15.0      98.0         90  high risk\n",
       "107    25         140          100   6.8      98.0         80  high risk\n",
       "...   ...         ...          ...   ...       ...        ...        ...\n",
       "1009   22         120           60  15.0      98.0         80  high risk\n",
       "1010   55         120           90  18.0      98.0         60  high risk\n",
       "1011   35          85           60  19.0      98.0         86  high risk\n",
       "1012   43         120           90  18.0      98.0         70  high risk\n",
       "1013   32         120           65   6.0     101.0         76   mid risk\n",
       "\n",
       "[562 rows x 7 columns]"
      ]
     },
     "execution_count": 11,
     "metadata": {},
     "output_type": "execute_result"
    }
   ],
   "source": [
    "print(\"lets look at the duplicate observations\")\n",
    "df[df.duplicated()]"
   ]
  },
  {
   "cell_type": "markdown",
   "metadata": {},
   "source": [
    "Dropping duplicates, as this duplicated data will not be helpful for the regression task. \n",
    "\n",
    "This step will be done in Cleaning / Pre-processing [step](#duplicates-code), As we still need to to look at those observations for EDA, where those duplicates are still useful."
   ]
  },
  {
   "cell_type": "markdown",
   "metadata": {},
   "source": [
    "# Exploratory Data Analysis - EDA"
   ]
  },
  {
   "cell_type": "markdown",
   "metadata": {},
   "source": [
    "## `RiskLevel`"
   ]
  },
  {
   "cell_type": "code",
   "execution_count": 12,
   "metadata": {},
   "outputs": [
    {
     "data": {
      "text/html": [
       "<div>\n",
       "<style scoped>\n",
       "    .dataframe tbody tr th:only-of-type {\n",
       "        vertical-align: middle;\n",
       "    }\n",
       "\n",
       "    .dataframe tbody tr th {\n",
       "        vertical-align: top;\n",
       "    }\n",
       "\n",
       "    .dataframe thead th {\n",
       "        text-align: right;\n",
       "    }\n",
       "</style>\n",
       "<table border=\"1\" class=\"dataframe\">\n",
       "  <thead>\n",
       "    <tr style=\"text-align: right;\">\n",
       "      <th></th>\n",
       "      <th>RiskLevel Categories</th>\n",
       "      <th>Percentage</th>\n",
       "    </tr>\n",
       "  </thead>\n",
       "  <tbody>\n",
       "    <tr>\n",
       "      <th>0</th>\n",
       "      <td>low risk</td>\n",
       "      <td>40.04</td>\n",
       "    </tr>\n",
       "    <tr>\n",
       "      <th>1</th>\n",
       "      <td>mid risk</td>\n",
       "      <td>33.14</td>\n",
       "    </tr>\n",
       "    <tr>\n",
       "      <th>2</th>\n",
       "      <td>high risk</td>\n",
       "      <td>26.82</td>\n",
       "    </tr>\n",
       "  </tbody>\n",
       "</table>\n",
       "</div>"
      ],
      "text/plain": [
       "  RiskLevel Categories  Percentage\n",
       "0             low risk       40.04\n",
       "1             mid risk       33.14\n",
       "2            high risk       26.82"
      ]
     },
     "metadata": {},
     "output_type": "display_data"
    },
    {
     "data": {
      "image/png": "[encoded data removed]",
      "text/plain": [
       "<Figure size 288x72 with 1 Axes>"
      ]
     },
     "metadata": {
      "needs_background": "light"
     },
     "output_type": "display_data"
    }
   ],
   "source": [
    "# Class Balance Check of Target variable `RiskLevel`\n",
    "## Value Counts\n",
    "display(\n",
    "    df[\"RiskLevel\"]\n",
    "    .value_counts(1)\n",
    "    .apply(lambda x: round(x * 100, 2))\n",
    "    .to_frame()\n",
    "    .reset_index()\n",
    "    .rename(columns={\"RiskLevel\": \"Percentage\", \"index\":\"RiskLevel Categories\"})\n",
    ")\n",
    "# `Matplotlib` Figure\n",
    "df[\"RiskLevel\"].value_counts()[::-1].plot(\n",
    "    kind=\"barh\", title=\"Class Balance\", figsize=(4, 1), color=\"gold\"\n",
    ")\n",
    "plt.show()"
   ]
  },
  {
   "cell_type": "markdown",
   "metadata": {},
   "source": [
    "Risk levels are distributed fairly in an uniform manner with the number of high risk being the lowest."
   ]
  },
  {
   "cell_type": "markdown",
   "metadata": {},
   "source": [
    "## `Age`"
   ]
  },
  {
   "cell_type": "code",
   "execution_count": 13,
   "metadata": {},
   "outputs": [
    {
     "data": {
      "image/png": "[encoded data removed]",
      "text/plain": [
       "<Figure size 432x288 with 1 Axes>"
      ]
     },
     "metadata": {
      "needs_background": "light"
     },
     "output_type": "display_data"
    }
   ],
   "source": [
    "sns.histplot(df['Age'], bins=5, kde=True, color='red')\n",
    "plt.show()"
   ]
  },
  {
   "cell_type": "markdown",
   "metadata": {},
   "source": [
    "We can see the age distribution is mostly peaks at the age between 15-25. We can see the distribution of the age from the code cell below."
   ]
  },
  {
   "cell_type": "code",
   "execution_count": 14,
   "metadata": {},
   "outputs": [
    {
     "name": "stdout",
     "output_type": "stream",
     "text": [
      "Lowest age of pregnancy: 10 & Highest age of pregnancy: 70.\n"
     ]
    },
    {
     "data": {
      "text/html": [
       "<div>\n",
       "<style scoped>\n",
       "    .dataframe tbody tr th:only-of-type {\n",
       "        vertical-align: middle;\n",
       "    }\n",
       "\n",
       "    .dataframe tbody tr th {\n",
       "        vertical-align: top;\n",
       "    }\n",
       "\n",
       "    .dataframe thead th {\n",
       "        text-align: right;\n",
       "    }\n",
       "</style>\n",
       "<table border=\"1\" class=\"dataframe\">\n",
       "  <thead>\n",
       "    <tr style=\"text-align: right;\">\n",
       "      <th></th>\n",
       "      <th>Age Bins `(start, end]`</th>\n",
       "      <th>Percentage</th>\n",
       "      <th>Counts</th>\n",
       "    </tr>\n",
       "  </thead>\n",
       "  <tbody>\n",
       "    <tr>\n",
       "      <th>0</th>\n",
       "      <td>(9.939, 16.0]</td>\n",
       "      <td>12.82</td>\n",
       "      <td>130</td>\n",
       "    </tr>\n",
       "    <tr>\n",
       "      <th>1</th>\n",
       "      <td>(16.0, 22.0]</td>\n",
       "      <td>25.05</td>\n",
       "      <td>254</td>\n",
       "    </tr>\n",
       "    <tr>\n",
       "      <th>2</th>\n",
       "      <td>(22.0, 28.0]</td>\n",
       "      <td>15.98</td>\n",
       "      <td>162</td>\n",
       "    </tr>\n",
       "    <tr>\n",
       "      <th>3</th>\n",
       "      <td>(28.0, 34.0]</td>\n",
       "      <td>14.79</td>\n",
       "      <td>150</td>\n",
       "    </tr>\n",
       "    <tr>\n",
       "      <th>4</th>\n",
       "      <td>(34.0, 40.0]</td>\n",
       "      <td>10.16</td>\n",
       "      <td>103</td>\n",
       "    </tr>\n",
       "    <tr>\n",
       "      <th>5</th>\n",
       "      <td>(40.0, 46.0]</td>\n",
       "      <td>4.14</td>\n",
       "      <td>42</td>\n",
       "    </tr>\n",
       "    <tr>\n",
       "      <th>6</th>\n",
       "      <td>(46.0, 52.0]</td>\n",
       "      <td>7.79</td>\n",
       "      <td>79</td>\n",
       "    </tr>\n",
       "    <tr>\n",
       "      <th>7</th>\n",
       "      <td>(52.0, 58.0]</td>\n",
       "      <td>4.93</td>\n",
       "      <td>50</td>\n",
       "    </tr>\n",
       "    <tr>\n",
       "      <th>8</th>\n",
       "      <td>(58.0, 64.0]</td>\n",
       "      <td>3.85</td>\n",
       "      <td>39</td>\n",
       "    </tr>\n",
       "    <tr>\n",
       "      <th>9</th>\n",
       "      <td>(64.0, 70.0]</td>\n",
       "      <td>0.49</td>\n",
       "      <td>5</td>\n",
       "    </tr>\n",
       "  </tbody>\n",
       "</table>\n",
       "</div>"
      ],
      "text/plain": [
       "  Age Bins `(start, end]`  Percentage  Counts\n",
       "0           (9.939, 16.0]       12.82     130\n",
       "1            (16.0, 22.0]       25.05     254\n",
       "2            (22.0, 28.0]       15.98     162\n",
       "3            (28.0, 34.0]       14.79     150\n",
       "4            (34.0, 40.0]       10.16     103\n",
       "5            (40.0, 46.0]        4.14      42\n",
       "6            (46.0, 52.0]        7.79      79\n",
       "7            (52.0, 58.0]        4.93      50\n",
       "8            (58.0, 64.0]        3.85      39\n",
       "9            (64.0, 70.0]        0.49       5"
      ]
     },
     "execution_count": 14,
     "metadata": {},
     "output_type": "execute_result"
    }
   ],
   "source": [
    "print(f\"Lowest age of pregnancy: {df['Age'].min()} & Highest age of pregnancy: {df['Age'].max()}.\")\n",
    "\n",
    "pd.merge(\n",
    "    df[\"Age\"]\n",
    "    .value_counts(1, bins=10)\n",
    "    .apply(lambda x: round(x * 100, 2))\n",
    "    .to_frame()\n",
    "    .sort_index()\n",
    "    .reset_index().rename(columns={\"index\":\"Age Bins `(start, end]`\"}),\n",
    "    df[\"Age\"]\n",
    "    .value_counts(bins=10)\n",
    "    .to_frame()\n",
    "    .sort_index()\n",
    "    .reset_index().rename(columns={\"index\":\"Age Bins `(start, end]`\"}),\n",
    "    on=\"Age Bins `(start, end]`\",\n",
    ").rename(columns={\"Age_x\": \"Percentage\", \"Age_y\": \"Counts\"})"
   ]
  },
  {
   "cell_type": "code",
   "execution_count": 15,
   "metadata": {},
   "outputs": [
    {
     "data": {
      "image/png": "[encoded data removed]",
      "text/plain": [
       "<Figure size 432x288 with 1 Axes>"
      ]
     },
     "metadata": {
      "needs_background": "light"
     },
     "output_type": "display_data"
    }
   ],
   "source": [
    "visuals(q=\"Age <= 18\", title=\"Young pregnancy\", palette=\"cubehelix\")"
   ]
  },
  {
   "cell_type": "code",
   "execution_count": 16,
   "metadata": {},
   "outputs": [
    {
     "data": {
      "image/png": "[encoded data removed]",
      "text/plain": [
       "<Figure size 432x288 with 1 Axes>"
      ]
     },
     "metadata": {
      "needs_background": "light"
     },
     "output_type": "display_data"
    }
   ],
   "source": [
    "visuals(q=\"Age > 55\", title=\"Over 55 years pregnancy\", palette='rocket')"
   ]
  },
  {
   "cell_type": "markdown",
   "metadata": {},
   "source": [
    "There are a large portion of teen pregnency, which is understandable given the socio-economic standards of the country. But the amount of obeservations for the elder population needs futher investigation, which is done in the cleaning section of the notebook."
   ]
  },
  {
   "cell_type": "markdown",
   "metadata": {},
   "source": [
    "## `BS`"
   ]
  },
  {
   "cell_type": "code",
   "execution_count": 17,
   "metadata": {},
   "outputs": [
    {
     "data": {
      "image/png": "[encoded data removed]",
      "text/plain": [
       "<Figure size 432x288 with 1 Axes>"
      ]
     },
     "metadata": {
      "needs_background": "light"
     },
     "output_type": "display_data"
    }
   ],
   "source": [
    "sns.scatterplot(y=df[\"Age\"], x=df[\"BS\"], hue=df[\"RiskLevel\"], palette='deep')\n",
    "plt.title(\"'Age' VS 'BS' by 'RiskLevel'\")\n",
    "plt.show()"
   ]
  },
  {
   "cell_type": "markdown",
   "metadata": {},
   "source": [
    "## `HeartRate`"
   ]
  },
  {
   "cell_type": "code",
   "execution_count": 18,
   "metadata": {},
   "outputs": [
    {
     "data": {
      "image/png": "[encoded data removed]",
      "text/plain": [
       "<Figure size 432x288 with 1 Axes>"
      ]
     },
     "metadata": {
      "needs_background": "light"
     },
     "output_type": "display_data"
    }
   ],
   "source": [
    "sns.violinplot(data=df, y=\"HeartRate\", x=\"RiskLevel\", palette='colorblind')\n",
    "plt.title(\"'HeartRate' by 'RiskLevel'\")\n",
    "plt.show()"
   ]
  },
  {
   "cell_type": "markdown",
   "metadata": {},
   "source": [
    "From the above two diagrams , we can see a clear distinction where higher Blood Sugar and Heart Rate leads to greater Risk"
   ]
  },
  {
   "cell_type": "markdown",
   "metadata": {},
   "source": [
    "# Cleaning - SCRUBBING | PRE-PROCESSING DATA"
   ]
  },
  {
   "cell_type": "markdown",
   "metadata": {},
   "source": [
    "## Categorical remap"
   ]
  },
  {
   "cell_type": "markdown",
   "metadata": {
    "collapsed": true
   },
   "source": [
    "As for data cleaning and preparation, the categorical values of RiskLevel column needs to be converted to numerical values where high=1, mid=0, low=0. \n",
    "\n",
    "This is done because, the Binomial Logistic Regression needs the dependent variable (which in this case is `RiskLevel`) to be numerical. So we are going to cluster the labels either in 1 or 0."
   ]
  },
  {
   "cell_type": "code",
   "execution_count": 19,
   "metadata": {
    "collapsed": true
   },
   "outputs": [],
   "source": [
    "target_map:dict = {\"low risk\": 0, \"mid risk\": 0, \"high risk\": 1}\n",
    "df[\"RiskLevel\"] = df[\"RiskLevel\"].map(target_map)"
   ]
  },
  {
   "cell_type": "code",
   "execution_count": 20,
   "metadata": {},
   "outputs": [
    {
     "data": {
      "text/html": [
       "<div>\n",
       "<style scoped>\n",
       "    .dataframe tbody tr th:only-of-type {\n",
       "        vertical-align: middle;\n",
       "    }\n",
       "\n",
       "    .dataframe tbody tr th {\n",
       "        vertical-align: top;\n",
       "    }\n",
       "\n",
       "    .dataframe thead th {\n",
       "        text-align: right;\n",
       "    }\n",
       "</style>\n",
       "<table border=\"1\" class=\"dataframe\">\n",
       "  <thead>\n",
       "    <tr style=\"text-align: right;\">\n",
       "      <th></th>\n",
       "      <th>RiskLevel</th>\n",
       "      <th>Count</th>\n",
       "    </tr>\n",
       "  </thead>\n",
       "  <tbody>\n",
       "    <tr>\n",
       "      <th>0</th>\n",
       "      <td>0</td>\n",
       "      <td>742</td>\n",
       "    </tr>\n",
       "    <tr>\n",
       "      <th>1</th>\n",
       "      <td>1</td>\n",
       "      <td>272</td>\n",
       "    </tr>\n",
       "  </tbody>\n",
       "</table>\n",
       "</div>"
      ],
      "text/plain": [
       "   RiskLevel  Count\n",
       "0          0    742\n",
       "1          1    272"
      ]
     },
     "execution_count": 20,
     "metadata": {},
     "output_type": "execute_result"
    }
   ],
   "source": [
    "# after re-map\n",
    "df[\"RiskLevel\"].value_counts().to_frame().reset_index().rename(columns={'index':\"RiskLevel\", \"RiskLevel\":\"Count\"})"
   ]
  },
  {
   "cell_type": "markdown",
   "metadata": {},
   "source": [
    "## Outlier Handling"
   ]
  },
  {
   "cell_type": "markdown",
   "metadata": {},
   "source": [
    "### `HeartRate`"
   ]
  },
  {
   "cell_type": "code",
   "execution_count": 21,
   "metadata": {},
   "outputs": [
    {
     "data": {
      "text/plain": [
       "count    1014.000000\n",
       "mean       74.301775\n",
       "std         8.088702\n",
       "min         7.000000\n",
       "1%         60.000000\n",
       "25%        70.000000\n",
       "50%        76.000000\n",
       "75%        80.000000\n",
       "max        90.000000\n",
       "Name: HeartRate, dtype: float64"
      ]
     },
     "execution_count": 21,
     "metadata": {},
     "output_type": "execute_result"
    }
   ],
   "source": [
    "# lets look at distribution to find out weird values\n",
    "heart_rate_description: pd.Series = df['HeartRate'].describe(percentiles=[.01, .25, .5, .75])\n",
    "heart_rate_description"
   ]
  },
  {
   "cell_type": "code",
   "execution_count": 22,
   "metadata": {},
   "outputs": [
    {
     "name": "stdout",
     "output_type": "stream",
     "text": [
      "first_quartile = 60.0\n"
     ]
    }
   ],
   "source": [
    "first_quartile: float = heart_rate_description.loc[\"1%\"]\n",
    "print(f\"{first_quartile = }\")"
   ]
  },
  {
   "cell_type": "code",
   "execution_count": 23,
   "metadata": {},
   "outputs": [
    {
     "data": {
      "text/html": [
       "<div>\n",
       "<style scoped>\n",
       "    .dataframe tbody tr th:only-of-type {\n",
       "        vertical-align: middle;\n",
       "    }\n",
       "\n",
       "    .dataframe tbody tr th {\n",
       "        vertical-align: top;\n",
       "    }\n",
       "\n",
       "    .dataframe thead th {\n",
       "        text-align: right;\n",
       "    }\n",
       "</style>\n",
       "<table border=\"1\" class=\"dataframe\">\n",
       "  <thead>\n",
       "    <tr style=\"text-align: right;\">\n",
       "      <th></th>\n",
       "      <th>Age</th>\n",
       "      <th>SystolicBP</th>\n",
       "      <th>DiastolicBP</th>\n",
       "      <th>BS</th>\n",
       "      <th>BodyTemp</th>\n",
       "      <th>HeartRate</th>\n",
       "      <th>RiskLevel</th>\n",
       "    </tr>\n",
       "  </thead>\n",
       "  <tbody>\n",
       "    <tr>\n",
       "      <th>499</th>\n",
       "      <td>16</td>\n",
       "      <td>120</td>\n",
       "      <td>75</td>\n",
       "      <td>7.9</td>\n",
       "      <td>98.0</td>\n",
       "      <td>7</td>\n",
       "      <td>0</td>\n",
       "    </tr>\n",
       "    <tr>\n",
       "      <th>908</th>\n",
       "      <td>16</td>\n",
       "      <td>120</td>\n",
       "      <td>75</td>\n",
       "      <td>7.9</td>\n",
       "      <td>98.0</td>\n",
       "      <td>7</td>\n",
       "      <td>0</td>\n",
       "    </tr>\n",
       "  </tbody>\n",
       "</table>\n",
       "</div>"
      ],
      "text/plain": [
       "     Age  SystolicBP  DiastolicBP   BS  BodyTemp  HeartRate  RiskLevel\n",
       "499   16         120           75  7.9      98.0          7          0\n",
       "908   16         120           75  7.9      98.0          7          0"
      ]
     },
     "execution_count": 23,
     "metadata": {},
     "output_type": "execute_result"
    }
   ],
   "source": [
    "# lets look at all values less than 1% quartile\n",
    "df.query(f\"HeartRate < {first_quartile}\")"
   ]
  },
  {
   "cell_type": "markdown",
   "metadata": {},
   "source": [
    "seems like a data entry error, replacing those with `70`."
   ]
  },
  {
   "cell_type": "code",
   "execution_count": 24,
   "metadata": {
    "collapsed": true
   },
   "outputs": [],
   "source": [
    "# index of the erroneous values, used to check `df` after insertion\n",
    "check_index = df.query(f\"HeartRate < {first_quartile}\").index\n",
    "# error value\n",
    "err_val_HeartRate = df.query(f\"HeartRate < {first_quartile}\")[\"HeartRate\"].unique()[0]\n",
    "# insertion\n",
    "df.loc[df[\"HeartRate\"] == err_val_HeartRate, \"HeartRate\"] = 70"
   ]
  },
  {
   "cell_type": "code",
   "execution_count": 25,
   "metadata": {},
   "outputs": [
    {
     "data": {
      "text/html": [
       "<div>\n",
       "<style scoped>\n",
       "    .dataframe tbody tr th:only-of-type {\n",
       "        vertical-align: middle;\n",
       "    }\n",
       "\n",
       "    .dataframe tbody tr th {\n",
       "        vertical-align: top;\n",
       "    }\n",
       "\n",
       "    .dataframe thead th {\n",
       "        text-align: right;\n",
       "    }\n",
       "</style>\n",
       "<table border=\"1\" class=\"dataframe\">\n",
       "  <thead>\n",
       "    <tr style=\"text-align: right;\">\n",
       "      <th></th>\n",
       "      <th>Age</th>\n",
       "      <th>SystolicBP</th>\n",
       "      <th>DiastolicBP</th>\n",
       "      <th>BS</th>\n",
       "      <th>BodyTemp</th>\n",
       "      <th>HeartRate</th>\n",
       "      <th>RiskLevel</th>\n",
       "    </tr>\n",
       "  </thead>\n",
       "  <tbody>\n",
       "    <tr>\n",
       "      <th>499</th>\n",
       "      <td>16</td>\n",
       "      <td>120</td>\n",
       "      <td>75</td>\n",
       "      <td>7.9</td>\n",
       "      <td>98.0</td>\n",
       "      <td>70</td>\n",
       "      <td>0</td>\n",
       "    </tr>\n",
       "    <tr>\n",
       "      <th>908</th>\n",
       "      <td>16</td>\n",
       "      <td>120</td>\n",
       "      <td>75</td>\n",
       "      <td>7.9</td>\n",
       "      <td>98.0</td>\n",
       "      <td>70</td>\n",
       "      <td>0</td>\n",
       "    </tr>\n",
       "  </tbody>\n",
       "</table>\n",
       "</div>"
      ],
      "text/plain": [
       "     Age  SystolicBP  DiastolicBP   BS  BodyTemp  HeartRate  RiskLevel\n",
       "499   16         120           75  7.9      98.0         70          0\n",
       "908   16         120           75  7.9      98.0         70          0"
      ]
     },
     "execution_count": 25,
     "metadata": {},
     "output_type": "execute_result"
    }
   ],
   "source": [
    "df.iloc[check_index]"
   ]
  },
  {
   "cell_type": "markdown",
   "metadata": {},
   "source": [
    "looks good now."
   ]
  },
  {
   "cell_type": "code",
   "execution_count": 26,
   "metadata": {},
   "outputs": [
    {
     "data": {
      "image/png": "[encoded data removed]",
      "text/plain": [
       "<Figure size 288x216 with 2 Axes>"
      ]
     },
     "metadata": {
      "needs_background": "light"
     },
     "output_type": "display_data"
    }
   ],
   "source": [
    "hist_with_kde(df['HeartRate'], figsize=(4,3), bar_color='black', kde_color='#eea904')"
   ]
  },
  {
   "cell_type": "markdown",
   "metadata": {},
   "source": [
    "### `Age`"
   ]
  },
  {
   "cell_type": "markdown",
   "metadata": {},
   "source": [
    "In an earlier cell , we saw that there are birth records where age is between 55-70. These records can be termed as outliers or error in input. Reasoning behind this is inspired from [this](https://www.mymenopausecentre.com/gp-resources/fertility-and-the-menopause/) article. Which states that pregnency after 55 is extremenly rare yet we have 45 of such isntances.\n",
    "\n",
    "Thus we are going to take average of the age values from 30-70 and replace those values with that mean value."
   ]
  },
  {
   "cell_type": "code",
   "execution_count": 27,
   "metadata": {},
   "outputs": [
    {
     "name": "stdout",
     "output_type": "stream",
     "text": [
      "45 observations are aged over 55, which is 4.34% of the data.\n"
     ]
    }
   ],
   "source": [
    "print(\n",
    "f\"\"\"{len(df.loc[(df[\"Age\"] > 55) & (df[\"Age\"] <= 70)])} observations are aged over 55, \\\n",
    "which is {(len(df.loc[(df[\"Age\"] > 55) & (df[\"Age\"] < 70)])/len(df)*100):.2f}% of the data.\"\"\"\n",
    ")"
   ]
  },
  {
   "cell_type": "code",
   "execution_count": 28,
   "metadata": {},
   "outputs": [
    {
     "name": "stdout",
     "output_type": "stream",
     "text": [
      "The mean value of column `Age` between `30 < Age < 70` is: `mean_age = 44`\n"
     ]
    }
   ],
   "source": [
    "# get mean age (not rounding the age)\n",
    "mean_age:float = df.query(\"30 < Age <= 70\")[\"Age\"].mean()\n",
    "print(f\"The mean value of column `Age` between `30 < Age < 70` is: `{mean_age = :.0f}`\")\n",
    "\n",
    "# insert imputed values\n",
    "df.loc[(df[\"Age\"] > 55) & (df[\"Age\"] <= 70), \"Age\"] = mean_age"
   ]
  },
  {
   "cell_type": "markdown",
   "metadata": {},
   "source": [
    "## Creating a new feature '`Preeclampsia`' from '`SystolicBP`' and '`DiastolicBP`'"
   ]
  },
  {
   "cell_type": "markdown",
   "metadata": {},
   "source": [
    "By combining SystolicBP and DiastolicBP into a single feature representing preeclampsia risk, it can be potentially helpful to capture the interaction between these two blood pressure readings. This interaction might be more informative for the model than separate features."
   ]
  },
  {
   "cell_type": "code",
   "execution_count": 29,
   "metadata": {
    "collapsed": true
   },
   "outputs": [],
   "source": [
    "def preeclampsia(SystolicBP: int, DiastolicBP: int) -> str:\n",
    "  \"\"\"\n",
    "  Preeclampsia and High Blood Pressure During Pregnancy - recode from measures.\n",
    "  Link: https://www.acog.org/womens-health/faqs/preeclampsia-and-high-blood-pressure-during-pregnancy\n",
    "\n",
    "  Args:\n",
    "      SystolicBP (int): pressure against the artery walls when the heart contracts\n",
    "      DiastolicBP (int): pressure against the artery walls when the heart relaxes between contractions\n",
    "\n",
    "  Returns:\n",
    "      str: type of blood pressure.\n",
    "  \"\"\"\n",
    "  if 120 <= SystolicBP < 130 and DiastolicBP < 80:\n",
    "    return \"elevated\"\n",
    "  elif SystolicBP < 130 and DiastolicBP < 80:\n",
    "    return \"normal\"\n",
    "  elif (130 <= SystolicBP < 140) or (80 <= DiastolicBP < 90):\n",
    "    return \"hypertension_1\"\n",
    "  elif SystolicBP >= 140 or DiastolicBP >= 90:\n",
    "    return \"hypertension_2\"\n",
    "  else:\n",
    "    # Handle potential errors\n",
    "    return \"Err\""
   ]
  },
  {
   "cell_type": "code",
   "execution_count": 30,
   "metadata": {},
   "outputs": [
    {
     "data": {
      "image/png": "[encoded data removed]",
      "text/plain": [
       "<Figure size 432x288 with 1 Axes>"
      ]
     },
     "metadata": {
      "needs_background": "light"
     },
     "output_type": "display_data"
    }
   ],
   "source": [
    "# new feature values distribution\n",
    "df.apply(lambda x: preeclampsia(x['SystolicBP'], x['DiastolicBP']),\n",
    "         axis=1).value_counts(sort=False).plot(\n",
    "             kind='barh', title=\"Imputed Preeclampsia Classes\", color=\"gold\")\n",
    "plt.show()"
   ]
  },
  {
   "cell_type": "code",
   "execution_count": 31,
   "metadata": {
    "collapsed": true
   },
   "outputs": [],
   "source": [
    "# map to convert to numerical values based on severity\n",
    "# Note: this is a categorical feature that needs to to encoded in numbers to be used in logistic regression\n",
    "preeclampsia_map: dict = {\n",
    "    \"normal\": 0,\n",
    "    \"elevated\": 1,\n",
    "    \"hypertension_1\": 2,\n",
    "    \"hypertension_2\": 3,\n",
    "}\n",
    "# appending to DataFrame\n",
    "df['Preeclampsia'] = df.apply(lambda x: preeclampsia(x['SystolicBP'], x['DiastolicBP']), axis=1).map(preeclampsia_map)"
   ]
  },
  {
   "cell_type": "code",
   "execution_count": 32,
   "metadata": {},
   "outputs": [
    {
     "data": {
      "text/html": [
       "<div>\n",
       "<style scoped>\n",
       "    .dataframe tbody tr th:only-of-type {\n",
       "        vertical-align: middle;\n",
       "    }\n",
       "\n",
       "    .dataframe tbody tr th {\n",
       "        vertical-align: top;\n",
       "    }\n",
       "\n",
       "    .dataframe thead th {\n",
       "        text-align: right;\n",
       "    }\n",
       "</style>\n",
       "<table border=\"1\" class=\"dataframe\">\n",
       "  <thead>\n",
       "    <tr style=\"text-align: right;\">\n",
       "      <th></th>\n",
       "      <th></th>\n",
       "      <th>Age</th>\n",
       "      <th>SystolicBP</th>\n",
       "      <th>DiastolicBP</th>\n",
       "      <th>BS</th>\n",
       "      <th>BodyTemp</th>\n",
       "      <th>HeartRate</th>\n",
       "    </tr>\n",
       "    <tr>\n",
       "      <th>Preeclampsia</th>\n",
       "      <th>RiskLevel</th>\n",
       "      <th></th>\n",
       "      <th></th>\n",
       "      <th></th>\n",
       "      <th></th>\n",
       "      <th></th>\n",
       "      <th></th>\n",
       "    </tr>\n",
       "  </thead>\n",
       "  <tbody>\n",
       "    <tr>\n",
       "      <th rowspan=\"2\" valign=\"top\">0</th>\n",
       "      <th>0</th>\n",
       "      <td>22.88</td>\n",
       "      <td>91.21</td>\n",
       "      <td>61.13</td>\n",
       "      <td>7.21</td>\n",
       "      <td>98.91</td>\n",
       "      <td>75.01</td>\n",
       "    </tr>\n",
       "    <tr>\n",
       "      <th>1</th>\n",
       "      <td>22.18</td>\n",
       "      <td>91.77</td>\n",
       "      <td>64.25</td>\n",
       "      <td>9.75</td>\n",
       "      <td>100.93</td>\n",
       "      <td>75.78</td>\n",
       "    </tr>\n",
       "    <tr>\n",
       "      <th rowspan=\"2\" valign=\"top\">1</th>\n",
       "      <th>0</th>\n",
       "      <td>26.49</td>\n",
       "      <td>120.00</td>\n",
       "      <td>67.69</td>\n",
       "      <td>6.75</td>\n",
       "      <td>98.35</td>\n",
       "      <td>72.63</td>\n",
       "    </tr>\n",
       "    <tr>\n",
       "      <th>1</th>\n",
       "      <td>30.60</td>\n",
       "      <td>120.00</td>\n",
       "      <td>71.00</td>\n",
       "      <td>9.78</td>\n",
       "      <td>98.40</td>\n",
       "      <td>74.00</td>\n",
       "    </tr>\n",
       "    <tr>\n",
       "      <th rowspan=\"2\" valign=\"top\">2</th>\n",
       "      <th>0</th>\n",
       "      <td>29.06</td>\n",
       "      <td>121.14</td>\n",
       "      <td>79.64</td>\n",
       "      <td>7.90</td>\n",
       "      <td>98.41</td>\n",
       "      <td>72.85</td>\n",
       "    </tr>\n",
       "    <tr>\n",
       "      <th>1</th>\n",
       "      <td>42.06</td>\n",
       "      <td>125.43</td>\n",
       "      <td>82.24</td>\n",
       "      <td>11.88</td>\n",
       "      <td>98.64</td>\n",
       "      <td>76.86</td>\n",
       "    </tr>\n",
       "    <tr>\n",
       "      <th rowspan=\"2\" valign=\"top\">3</th>\n",
       "      <th>0</th>\n",
       "      <td>30.94</td>\n",
       "      <td>118.35</td>\n",
       "      <td>90.79</td>\n",
       "      <td>7.58</td>\n",
       "      <td>98.32</td>\n",
       "      <td>72.37</td>\n",
       "    </tr>\n",
       "    <tr>\n",
       "      <th>1</th>\n",
       "      <td>38.83</td>\n",
       "      <td>137.50</td>\n",
       "      <td>95.87</td>\n",
       "      <td>13.37</td>\n",
       "      <td>98.19</td>\n",
       "      <td>77.28</td>\n",
       "    </tr>\n",
       "  </tbody>\n",
       "</table>\n",
       "</div>"
      ],
      "text/plain": [
       "                          Age  SystolicBP  DiastolicBP     BS  BodyTemp  \\\n",
       "Preeclampsia RiskLevel                                                    \n",
       "0            0          22.88       91.21        61.13   7.21     98.91   \n",
       "             1          22.18       91.77        64.25   9.75    100.93   \n",
       "1            0          26.49      120.00        67.69   6.75     98.35   \n",
       "             1          30.60      120.00        71.00   9.78     98.40   \n",
       "2            0          29.06      121.14        79.64   7.90     98.41   \n",
       "             1          42.06      125.43        82.24  11.88     98.64   \n",
       "3            0          30.94      118.35        90.79   7.58     98.32   \n",
       "             1          38.83      137.50        95.87  13.37     98.19   \n",
       "\n",
       "                        HeartRate  \n",
       "Preeclampsia RiskLevel             \n",
       "0            0              75.01  \n",
       "             1              75.78  \n",
       "1            0              72.63  \n",
       "             1              74.00  \n",
       "2            0              72.85  \n",
       "             1              76.86  \n",
       "3            0              72.37  \n",
       "             1              77.28  "
      ]
     },
     "execution_count": 32,
     "metadata": {},
     "output_type": "execute_result"
    }
   ],
   "source": [
    "df.groupby([\"Preeclampsia\", \"RiskLevel\"]).mean().round(2)"
   ]
  },
  {
   "cell_type": "markdown",
   "metadata": {},
   "source": [
    "Observations:\n",
    "- Age: The age range appears to be from around 22 to 42 years old. That is expected after outlier handling in the previous step.\n",
    "\n",
    "- Blood Pressure: \n",
    "    - There seems to be a possible correlation between higher age and higher systolic blood pressure.\n",
    "    - Diastolic blood pressure also shows a potential increase with age.\n",
    "\n",
    "- Blood Sugar: Blood sugar levels vary across individuals and conditions. \n",
    "    - There seems to be a wider range of values in rows (2, 1) and (3, 1). Leading to an understanding that increased blood sugar also has impact on high blood pressure"
   ]
  },
  {
   "cell_type": "markdown",
   "metadata": {},
   "source": [
    "<a id='duplicates-code'></a>\n",
    "## Removing Duplicates"
   ]
  },
  {
   "cell_type": "markdown",
   "metadata": {},
   "source": [
    "As discussed before [here](#duplicates), now dropping duplicate values."
   ]
  },
  {
   "cell_type": "code",
   "execution_count": 33,
   "metadata": {
    "collapsed": true
   },
   "outputs": [],
   "source": [
    "df = df[~df.duplicated()]"
   ]
  },
  {
   "cell_type": "code",
   "execution_count": 34,
   "metadata": {},
   "outputs": [
    {
     "data": {
      "text/html": [
       "<div>\n",
       "<style scoped>\n",
       "    .dataframe tbody tr th:only-of-type {\n",
       "        vertical-align: middle;\n",
       "    }\n",
       "\n",
       "    .dataframe tbody tr th {\n",
       "        vertical-align: top;\n",
       "    }\n",
       "\n",
       "    .dataframe thead th {\n",
       "        text-align: right;\n",
       "    }\n",
       "</style>\n",
       "<table border=\"1\" class=\"dataframe\">\n",
       "  <thead>\n",
       "    <tr style=\"text-align: right;\">\n",
       "      <th></th>\n",
       "      <th>Age</th>\n",
       "      <th>SystolicBP</th>\n",
       "      <th>DiastolicBP</th>\n",
       "      <th>BS</th>\n",
       "      <th>BodyTemp</th>\n",
       "      <th>HeartRate</th>\n",
       "      <th>RiskLevel</th>\n",
       "      <th>Preeclampsia</th>\n",
       "    </tr>\n",
       "  </thead>\n",
       "  <tbody>\n",
       "    <tr>\n",
       "      <th>0</th>\n",
       "      <td>25.0</td>\n",
       "      <td>130</td>\n",
       "      <td>80</td>\n",
       "      <td>15.0</td>\n",
       "      <td>98.0</td>\n",
       "      <td>86</td>\n",
       "      <td>1</td>\n",
       "      <td>2</td>\n",
       "    </tr>\n",
       "    <tr>\n",
       "      <th>1</th>\n",
       "      <td>35.0</td>\n",
       "      <td>140</td>\n",
       "      <td>90</td>\n",
       "      <td>13.0</td>\n",
       "      <td>98.0</td>\n",
       "      <td>70</td>\n",
       "      <td>1</td>\n",
       "      <td>3</td>\n",
       "    </tr>\n",
       "    <tr>\n",
       "      <th>2</th>\n",
       "      <td>29.0</td>\n",
       "      <td>90</td>\n",
       "      <td>70</td>\n",
       "      <td>8.0</td>\n",
       "      <td>100.0</td>\n",
       "      <td>80</td>\n",
       "      <td>1</td>\n",
       "      <td>0</td>\n",
       "    </tr>\n",
       "    <tr>\n",
       "      <th>3</th>\n",
       "      <td>30.0</td>\n",
       "      <td>140</td>\n",
       "      <td>85</td>\n",
       "      <td>7.0</td>\n",
       "      <td>98.0</td>\n",
       "      <td>70</td>\n",
       "      <td>1</td>\n",
       "      <td>2</td>\n",
       "    </tr>\n",
       "    <tr>\n",
       "      <th>4</th>\n",
       "      <td>35.0</td>\n",
       "      <td>120</td>\n",
       "      <td>60</td>\n",
       "      <td>6.1</td>\n",
       "      <td>98.0</td>\n",
       "      <td>76</td>\n",
       "      <td>0</td>\n",
       "      <td>1</td>\n",
       "    </tr>\n",
       "    <tr>\n",
       "      <th>...</th>\n",
       "      <td>...</td>\n",
       "      <td>...</td>\n",
       "      <td>...</td>\n",
       "      <td>...</td>\n",
       "      <td>...</td>\n",
       "      <td>...</td>\n",
       "      <td>...</td>\n",
       "      <td>...</td>\n",
       "    </tr>\n",
       "    <tr>\n",
       "      <th>673</th>\n",
       "      <td>12.0</td>\n",
       "      <td>100</td>\n",
       "      <td>50</td>\n",
       "      <td>6.4</td>\n",
       "      <td>98.0</td>\n",
       "      <td>70</td>\n",
       "      <td>0</td>\n",
       "      <td>0</td>\n",
       "    </tr>\n",
       "    <tr>\n",
       "      <th>674</th>\n",
       "      <td>15.0</td>\n",
       "      <td>100</td>\n",
       "      <td>60</td>\n",
       "      <td>6.0</td>\n",
       "      <td>98.0</td>\n",
       "      <td>80</td>\n",
       "      <td>0</td>\n",
       "      <td>0</td>\n",
       "    </tr>\n",
       "    <tr>\n",
       "      <th>703</th>\n",
       "      <td>15.0</td>\n",
       "      <td>100</td>\n",
       "      <td>49</td>\n",
       "      <td>7.6</td>\n",
       "      <td>98.0</td>\n",
       "      <td>77</td>\n",
       "      <td>0</td>\n",
       "      <td>0</td>\n",
       "    </tr>\n",
       "    <tr>\n",
       "      <th>704</th>\n",
       "      <td>12.0</td>\n",
       "      <td>100</td>\n",
       "      <td>50</td>\n",
       "      <td>6.0</td>\n",
       "      <td>98.0</td>\n",
       "      <td>70</td>\n",
       "      <td>0</td>\n",
       "      <td>0</td>\n",
       "    </tr>\n",
       "    <tr>\n",
       "      <th>705</th>\n",
       "      <td>21.0</td>\n",
       "      <td>100</td>\n",
       "      <td>50</td>\n",
       "      <td>6.8</td>\n",
       "      <td>98.0</td>\n",
       "      <td>60</td>\n",
       "      <td>0</td>\n",
       "      <td>0</td>\n",
       "    </tr>\n",
       "  </tbody>\n",
       "</table>\n",
       "<p>427 rows × 8 columns</p>\n",
       "</div>"
      ],
      "text/plain": [
       "      Age  SystolicBP  DiastolicBP    BS  BodyTemp  HeartRate  RiskLevel  \\\n",
       "0    25.0         130           80  15.0      98.0         86          1   \n",
       "1    35.0         140           90  13.0      98.0         70          1   \n",
       "2    29.0          90           70   8.0     100.0         80          1   \n",
       "3    30.0         140           85   7.0      98.0         70          1   \n",
       "4    35.0         120           60   6.1      98.0         76          0   \n",
       "..    ...         ...          ...   ...       ...        ...        ...   \n",
       "673  12.0         100           50   6.4      98.0         70          0   \n",
       "674  15.0         100           60   6.0      98.0         80          0   \n",
       "703  15.0         100           49   7.6      98.0         77          0   \n",
       "704  12.0         100           50   6.0      98.0         70          0   \n",
       "705  21.0         100           50   6.8      98.0         60          0   \n",
       "\n",
       "     Preeclampsia  \n",
       "0               2  \n",
       "1               3  \n",
       "2               0  \n",
       "3               2  \n",
       "4               1  \n",
       "..            ...  \n",
       "673             0  \n",
       "674             0  \n",
       "703             0  \n",
       "704             0  \n",
       "705             0  \n",
       "\n",
       "[427 rows x 8 columns]"
      ]
     },
     "execution_count": 34,
     "metadata": {},
     "output_type": "execute_result"
    }
   ],
   "source": [
    "# Final DataFrame\n",
    "df"
   ]
  },
  {
   "cell_type": "code",
   "execution_count": 35,
   "metadata": {},
   "outputs": [
    {
     "name": "stdout",
     "output_type": "stream",
     "text": [
      "Now dataset have 427 observations; and still having 8 features.\n"
     ]
    }
   ],
   "source": [
    "print(\"Now dataset have {} observations; and still having {} features.\".format(*df.shape))"
   ]
  },
  {
   "cell_type": "markdown",
   "metadata": {},
   "source": [
    "# Logistic Regression"
   ]
  },
  {
   "cell_type": "markdown",
   "metadata": {},
   "source": [
    "First we will separate the features and the labels (`RiskLevel`). We want to keep a certain amount of data separate, which is going to be used for testing purposes. We will choose that number to be 70% of the actual amount of data."
   ]
  },
  {
   "cell_type": "code",
   "execution_count": 36,
   "metadata": {},
   "outputs": [
    {
     "name": "stdout",
     "output_type": "stream",
     "text": [
      "\u001b[1mBefore reshaping ↓↓↓\n",
      "\u001b[0m`X` array has shape of (427, 7).\n",
      "`y` array has shape of (427,).\n"
     ]
    }
   ],
   "source": [
    "# get values\n",
    "X = df.drop(columns=\"RiskLevel\").values\n",
    "y = df[\"RiskLevel\"].values\n",
    "\n",
    "bold_print(\"Before reshaping ↓↓↓\\n\")\n",
    "print(\"`X` array has shape of {}.\".format(X.shape))\n",
    "print(\"`y` array has shape of {}.\".format(y.shape))"
   ]
  },
  {
   "cell_type": "code",
   "execution_count": 37,
   "metadata": {},
   "outputs": [
    {
     "name": "stdout",
     "output_type": "stream",
     "text": [
      "\u001b[1mAfter reshaping ↓↓↓\n",
      "\u001b[0m`X` array has 427 rows and 8 columns.\n",
      "`y` array has 427 rows and 1 columns.\n"
     ]
    }
   ],
   "source": [
    "# reshape accordingly\n",
    "X = np.insert(X, X.shape[-1], 1.0, axis=1)\n",
    "y = np.reshape(y, (len(y), 1))\n",
    "\n",
    "bold_print(\"After reshaping ↓↓↓\\n\")\n",
    "print(\"`X` array has {} rows and {} columns.\".format(*X.shape))\n",
    "print(\"`y` array has {} rows and {} columns.\".format(*y.shape))"
   ]
  },
  {
   "cell_type": "code",
   "execution_count": 38,
   "metadata": {},
   "outputs": [
    {
     "name": "stdout",
     "output_type": "stream",
     "text": [
      "[[ 25. 130.  80. ...  86.   2.   1.]\n",
      " [ 35. 140.  90. ...  70.   3.   1.]\n",
      " [ 29.  90.  70. ...  80.   0.   1.]\n",
      " ...\n",
      " [ 15. 100.  49. ...  77.   0.   1.]\n",
      " [ 12. 100.  50. ...  70.   0.   1.]\n",
      " [ 21. 100.  50. ...  60.   0.   1.]]\n"
     ]
    }
   ],
   "source": [
    "# peek at `X`\n",
    "print(X)"
   ]
  },
  {
   "cell_type": "code",
   "execution_count": 39,
   "metadata": {},
   "outputs": [
    {
     "data": {
      "text/plain": [
       "array([[0],\n",
       "       [0],\n",
       "       [1],\n",
       "       [0],\n",
       "       [0],\n",
       "       [0],\n",
       "       [0],\n",
       "       [0],\n",
       "       [1],\n",
       "       [1],\n",
       "       [0],\n",
       "       [0],\n",
       "       [0],\n",
       "       [0],\n",
       "       [0],\n",
       "       [0],\n",
       "       [1],\n",
       "       [0],\n",
       "       [0],\n",
       "       [0]])"
      ]
     },
     "execution_count": 39,
     "metadata": {},
     "output_type": "execute_result"
    }
   ],
   "source": [
    "# peek at 20 random values of `y`\n",
    "np.random.default_rng().choice(y, 20)"
   ]
  },
  {
   "cell_type": "code",
   "execution_count": 40,
   "metadata": {},
   "outputs": [
    {
     "name": "stdout",
     "output_type": "stream",
     "text": [
      "The original size of the dataset is: 427.\n",
      "Train-Test split ratio is 70 to 30\n",
      "\n",
      "Number of record in `X_train` is 299 and in `y_train` is 299.\n",
      "Number of record in `X_test` is 128 and in `y_test` is 128.\n"
     ]
    }
   ],
   "source": [
    "# train-test split\n",
    "SPLIT_RATIO: float = 0.7\n",
    "slice: int = round(len(X) * SPLIT_RATIO)\n",
    "\n",
    "print(\"The original size of the dataset is: {}.\".format(len(X)))\n",
    "print(f\"Train-Test split ratio is {SPLIT_RATIO*100:.0f} to {100-SPLIT_RATIO*100:.0f}\\n\")\n",
    "\n",
    "# train set\n",
    "X_train = X[:slice]\n",
    "y_train = y[:slice]\n",
    "print(\n",
    "    \"Number of record in `X_train` is {} and in `y_train` is {}.\".format(\n",
    "        len(X_train), len(y_train)\n",
    "    )\n",
    ")\n",
    "\n",
    "# test set\n",
    "X_test = X[slice:]\n",
    "y_test = y[slice:]\n",
    "print(\n",
    "    \"Number of record in `X_test` is {} and in `y_test` is {}.\".format(\n",
    "        len(X_test), len(y_test)\n",
    "    )\n",
    ")"
   ]
  },
  {
   "cell_type": "markdown",
   "metadata": {},
   "source": [
    "Now we will create the sigmoid function, gradient function to get optimal theta values and the linear discriminant function  needed for logistic regression below. We will also need the log likelihood function that will be required to do the gradient descent evaluation of theta."
   ]
  },
  {
   "cell_type": "code",
   "execution_count": 41,
   "metadata": {
    "collapsed": true
   },
   "outputs": [],
   "source": [
    "def lin_discr(X, theta):\n",
    "    \"\"\"Linear discriminant function.\n",
    "\n",
    "    This function calculates the linear discriminant score for each point in X using the coefficients theta.\n",
    "\n",
    "    Args:\n",
    "        X (np.ndarray): A NumPy array representing the points (features) for which to calculate the score.\n",
    "        theta (np.ndarray): A NumPy array representing the coefficients of the linear discriminant.\n",
    "\n",
    "    Returns:\n",
    "        np.ndarray: A NumPy array of the same shape as the number of rows in X, containing the linear discriminant scores.\n",
    "    \"\"\"\n",
    "    y = np.dot(theta.T, X.T)\n",
    "    return y.T\n",
    "\n",
    "\n",
    "def logistic(X, theta):\n",
    "    \"\"\"Logistic function (sigmoid function).\n",
    "\n",
    "    This function calculates the sigmoid function for each element resulting from the dot product of theta.T and X.T.\n",
    "\n",
    "    Args:\n",
    "        X (np.ndarray): A NumPy array representing the points (features) for which to calculate the logistic function.\n",
    "        theta (np.ndarray): A NumPy array representing the coefficients.\n",
    "\n",
    "    Returns:\n",
    "        np.ndarray: A NumPy array of the same shape as the number of rows in X, containing the logistic function results.\n",
    "    \"\"\"\n",
    "    Y = np.dot(theta.T, X.T)\n",
    "    G_y = 1 / (1 + np.exp(-Y))\n",
    "    return G_y\n",
    "\n",
    "\n",
    "def grad_log_likelihood(theta, y, X):\n",
    "    \"\"\"Calculates the gradient of the log-likelihood function for logistic regression.\n",
    "\n",
    "    This function calculates the gradient of the log-likelihood function with respect to the parameter vector theta,\n",
    "    given the labels (y), data points (X), and current parameter theta.\n",
    "\n",
    "    Args:\n",
    "        theta (np.ndarray): A NumPy array representing the current parameter vector (theta).\n",
    "        y (np.ndarray): A NumPy array representing the labels (binary classification).\n",
    "        X (np.ndarray): A NumPy array representing the data points (features).\n",
    "\n",
    "    Returns:\n",
    "        np.ndarray: A NumPy array representing the gradient of the log-likelihood function with respect to theta.\n",
    "    \"\"\"\n",
    "    s = np.dot(X, theta)\n",
    "    ina = 1 / (1 + np.exp(-s))\n",
    "    t = np.dot(X.T, y) - np.dot(X.T, ina)\n",
    "    return t\n",
    "\n",
    "\n",
    "def ret_theta(X, y):\n",
    "    \"\"\"Performs logistic regression using gradient descent.\n",
    "\n",
    "    This function implements gradient descent to find the optimal parameter vector (theta) for logistic regression,\n",
    "    given the data points (X) and labels (y). \n",
    "    It uses a fixed learning rate (ALPHA) and a maximum number of steps (MAX_STEP).\n",
    "\n",
    "    Args:\n",
    "        X (np.ndarray): A NumPy array representing the data points (features).\n",
    "        y (np.ndarray): A NumPy array representing the labels (binary classification).\n",
    "\n",
    "    Returns:\n",
    "        np.ndarray: A NumPy array representing the optimal parameter vector (theta) found after gradient descent\n",
    "    \"\"\"\n",
    "    ALPHA = 0.1\n",
    "    MAX_STEP = 5000\n",
    "\n",
    "    # Get the data coordinate matrix, X, and labels vector, y\n",
    "    w = X\n",
    "    f = y.astype(dtype=float)\n",
    "\n",
    "    # Store ALL guesses, for subsequent analysis\n",
    "    thetas = np.zeros((X.shape[1], MAX_STEP + 1))\n",
    "\n",
    "    for t in range(MAX_STEP):\n",
    "        # Fill in the code to compute thetas[:, t+1:t+2]\n",
    "        theta_last = thetas[:, t : t + 1]\n",
    "        gradient = grad_log_likelihood(theta_last, f, w)\n",
    "        step = ALPHA * (gradient / (np.linalg.norm(gradient, ord=None)))\n",
    "        update = theta_last + step\n",
    "        thetas[:, t + 1 : t + 2] = update\n",
    "\n",
    "    op_theta = thetas[:, MAX_STEP]\n",
    "\n",
    "    return op_theta"
   ]
  },
  {
   "cell_type": "code",
   "execution_count": 42,
   "metadata": {},
   "outputs": [
    {
     "name": "stdout",
     "output_type": "stream",
     "text": [
      "The values of thetas are: [-0.04060114  0.03823092  0.06943101  0.90653387 -0.17106197  0.02541296\n",
      " -0.90276591 -0.12422143]\n"
     ]
    }
   ],
   "source": [
    "thetas = ret_theta(X_train, y_train)\n",
    "print('The values of thetas are: {}'.format(thetas))"
   ]
  },
  {
   "cell_type": "code",
   "execution_count": 43,
   "metadata": {
    "collapsed": true
   },
   "outputs": [],
   "source": [
    "def log_heav(Y):\n",
    "    \"\"\"Heaviside function (element-wise).\n",
    "\n",
    "    This function applies the Heaviside function to each element in the input array Y.\n",
    "    The Heaviside function outputs:\n",
    "    - 1 if the element is greater than or equal to 0.5\n",
    "    - 0 otherwise\n",
    "\n",
    "    Args:\n",
    "        Y (np.ndarray): A NumPy array of numerical values.\n",
    "\n",
    "    Returns:\n",
    "        np.ndarray: A NumPy array of the same shape as Y, containing the results of applying the Heaviside function.\n",
    "    \"\"\"\n",
    "    return [1 if i >= 0.5 else 0 for i in Y]\n",
    "\n",
    "\n",
    "def heaviside_int(Y):\n",
    "    \"\"\"Heaviside function with integer output (element-wise).\n",
    "\n",
    "    This function evaluates the Heaviside function for each element in Y and returns the results as integers.\n",
    "    The Heaviside function outputs:\n",
    "        - 1 if the element is greater than or equal to 0.5\n",
    "        - 0 otherwise\n",
    "\n",
    "    Args:\n",
    "        Y (np.ndarray): A NumPy array of numerical values.\n",
    "\n",
    "    Returns:\n",
    "        np.ndarray: A NumPy array of the same shape as Y, containing integers (0 or 1) representing the Heaviside function results.\n",
    "    \"\"\"\n",
    "    def heaviside(Y):\n",
    "        \"\"\"Evaluates the heaviside function\"\"\"\n",
    "        return np.heaviside(Y, 0)\n",
    "\n",
    "    return heaviside(Y).astype(dtype=int)\n",
    "\n",
    "\n",
    "def gen_lin_discriminant_labels(points, theta, func=heaviside_int):\n",
    "    \"\"\"Generates labels for points based on a linear discriminant.\n",
    "\n",
    "    This function takes a set of points, the coefficients of a linear discriminant (theta), and an optional function (func)\n",
    "    to evaluate the discriminant score. It returns labels for each point based on its classification using the discriminant.\n",
    "\n",
    "    Args:\n",
    "        points (np.ndarray): A NumPy array representing the points to classify (features).\n",
    "        theta (np.ndarray): A NumPy array representing the coefficients of the linear discriminant.\n",
    "        func (function, optional): A function to evaluate the discriminant score. Defaults to `heaviside_int`.\n",
    "\n",
    "    Returns:\n",
    "        np.ndarray: A NumPy array of labels (0 or 1) for each point based on the linear discriminant classification.\n",
    "    \"\"\"\n",
    "    score = lin_discr(points, theta)\n",
    "    labels = func(score)\n",
    "    return labels"
   ]
  },
  {
   "cell_type": "code",
   "execution_count": 44,
   "metadata": {
    "collapsed": true
   },
   "outputs": [],
   "source": [
    "test_labels_log = gen_lin_discriminant_labels(X_test, thetas, log_heav)\n",
    "test_labels_linear = gen_lin_discriminant_labels(X_test, thetas)"
   ]
  },
  {
   "cell_type": "code",
   "execution_count": 45,
   "metadata": {
    "collapsed": true
   },
   "outputs": [],
   "source": [
    "def get_accuracy(y_pred, y):\n",
    "    \"\"\"Calculates the accuracy of a classification model.\n",
    "\n",
    "    This function calculates the accuracy of a model's predictions (y_pred) compared to the true labels (y).\n",
    "    Accuracy is defined as the proportion of correctly classified samples.\n",
    "\n",
    "    Args:\n",
    "      y_pred (np.ndarray): A NumPy array of the model's predicted labels.\n",
    "      y (np.ndarray): A NumPy array of the true labels.\n",
    "\n",
    "    Returns:\n",
    "      float: The accuracy of the model (between 0 and 1).\n",
    "\n",
    "    Raises:\n",
    "      AssertionError: If the lengths of y_pred and y don't match.\n",
    "    \"\"\"\n",
    "\n",
    "    assert len(y_pred) == len(y), \"y_pred and y must have the same length\"\n",
    "\n",
    "    # comparison\n",
    "    correct_predictions = np.sum(y_pred == y)\n",
    "\n",
    "    return correct_predictions / len(y)"
   ]
  },
  {
   "cell_type": "code",
   "execution_count": 46,
   "metadata": {},
   "outputs": [
    {
     "name": "stdout",
     "output_type": "stream",
     "text": [
      "The accuracy with `linear discriminant` is 0.8984\n",
      "The accuracy with `logistic discriminant` is 0.9219\n"
     ]
    }
   ],
   "source": [
    "acc = get_accuracy(test_labels_linear, y_test.T.flatten())\n",
    "acc_log = get_accuracy(test_labels_log, y_test.T.flatten())\n",
    "\n",
    "print(f\"The accuracy with `linear discriminant` is {acc:.4f}\")\n",
    "print(f\"The accuracy with `logistic discriminant` is {acc_log:.4f}\")"
   ]
  },
  {
   "cell_type": "code",
   "execution_count": 47,
   "metadata": {
    "collapsed": true
   },
   "outputs": [],
   "source": [
    "# saving model accuracy in a dict for later comparison\n",
    "test_results: dict = {\n",
    "    \"linear discriminant\": acc,\n",
    "    \"logistic discriminant\": acc_log\n",
    "}"
   ]
  },
  {
   "cell_type": "markdown",
   "metadata": {},
   "source": [
    "# Using `sklearn`'s native logistic regression"
   ]
  },
  {
   "cell_type": "code",
   "execution_count": 48,
   "metadata": {
    "collapsed": true
   },
   "outputs": [],
   "source": [
    "# pre-processing\n",
    "X_sklearn = df.drop(columns=\"RiskLevel\")\n",
    "y_sklearn = df[\"RiskLevel\"].values"
   ]
  },
  {
   "cell_type": "code",
   "execution_count": 49,
   "metadata": {
    "collapsed": true
   },
   "outputs": [],
   "source": [
    "# train-test split (70-30)\n",
    "X_train, X_test, y_train, y_test = train_test_split(\n",
    "    X_sklearn, y_sklearn, train_size=SPLIT_RATIO, random_state=13\n",
    ")"
   ]
  },
  {
   "cell_type": "code",
   "execution_count": 50,
   "metadata": {
    "collapsed": true
   },
   "outputs": [],
   "source": [
    "# initialize models\n",
    "linmodel = LogisticRegression(solver=\"liblinear\", max_iter=5_000)\n",
    "logmodel = LogisticRegression(solver='lbfgs',\n",
    "                              multi_class=\"multinomial\",\n",
    "                              max_iter=5_000)\n",
    "\n",
    "# fit models on train data\n",
    "lin_fit = linmodel.fit(X_train, y_train)\n",
    "log_fit = logmodel.fit(X_train, y_train)"
   ]
  },
  {
   "cell_type": "code",
   "execution_count": 51,
   "metadata": {
    "collapsed": true
   },
   "outputs": [],
   "source": [
    "# predict on test data\n",
    "predictions_lin = linmodel.predict(X_test)\n",
    "predictions_log = logmodel.predict(X_test)"
   ]
  },
  {
   "cell_type": "code",
   "execution_count": 52,
   "metadata": {},
   "outputs": [
    {
     "name": "stdout",
     "output_type": "stream",
     "text": [
      "\u001b[1mAccuracy Using `scikit-learn` ↓↓↓\n",
      "\u001b[0m\t`linear discriminant model`:\t0.8450\n",
      "\t`logistic discriminant model`:\t0.8450\n"
     ]
    }
   ],
   "source": [
    "# appending accuracy scores to `test_results` dict\n",
    "test_results[\"sklearn_LR_liblinear\"] = accuracy_score(y_test, predictions_lin)\n",
    "test_results[\"sklearn_LR_lbfgs\"] = accuracy_score(y_test, predictions_lin)\n",
    "\n",
    "bold_print(\"Accuracy Using `scikit-learn` ↓↓↓\\n\")\n",
    "print(\n",
    "    f\"\\t`linear discriminant model`:\\t{test_results['sklearn_LR_liblinear']:.4f}\"\n",
    ")\n",
    "print(\n",
    "    f\"\\t`logistic discriminant model`:\\t{test_results['sklearn_LR_lbfgs']:.4f}\"\n",
    ")"
   ]
  },
  {
   "cell_type": "code",
   "execution_count": 53,
   "metadata": {
    "collapsed": true
   },
   "outputs": [],
   "source": [
    "# # what does `report` do? Uncomment and run the next line to read the docstring\n",
    "# help(report)"
   ]
  },
  {
   "cell_type": "code",
   "execution_count": 54,
   "metadata": {},
   "outputs": [
    {
     "data": {
      "image/png": "[encoded data removed]",
      "text/plain": [
       "<Figure size 432x288 with 2 Axes>"
      ]
     },
     "metadata": {
      "needs_background": "light"
     },
     "output_type": "display_data"
    },
    {
     "name": "stdout",
     "output_type": "stream",
     "text": [
      "              precision    recall  f1-score   support\n",
      "\n",
      "           0       0.83      0.98      0.90        90\n",
      "           1       0.91      0.54      0.68        39\n",
      "\n",
      "    accuracy                           0.84       129\n",
      "   macro avg       0.87      0.76      0.79       129\n",
      "weighted avg       0.86      0.84      0.83       129\n",
      "\n"
     ]
    }
   ],
   "source": [
    "report(X_test, y_test, predictions_lin, linmodel)"
   ]
  },
  {
   "cell_type": "code",
   "execution_count": 55,
   "metadata": {},
   "outputs": [
    {
     "data": {
      "image/png": "[encoded data removed]",
      "text/plain": [
       "<Figure size 432x288 with 2 Axes>"
      ]
     },
     "metadata": {
      "needs_background": "light"
     },
     "output_type": "display_data"
    },
    {
     "name": "stdout",
     "output_type": "stream",
     "text": [
      "              precision    recall  f1-score   support\n",
      "\n",
      "           0       0.86      0.94      0.90        90\n",
      "           1       0.83      0.64      0.72        39\n",
      "\n",
      "    accuracy                           0.85       129\n",
      "   macro avg       0.85      0.79      0.81       129\n",
      "weighted avg       0.85      0.85      0.85       129\n",
      "\n"
     ]
    }
   ],
   "source": [
    "report(X_test, y_test, predictions_log, logmodel)"
   ]
  },
  {
   "cell_type": "markdown",
   "metadata": {},
   "source": [
    "Interpretation:\n",
    "\n",
    "- The model has a higher precision (0.90) for class 0 (negative cases), meaning it rarely makes false positive predictions for non-preeclampsia cases.\n",
    "- The recall for class 1 (positive cases) is lower (0.68), indicating the model might miss some actual preeclampsia cases (false negatives).\n",
    "- The F1-score for both classes is around 0.6-0.8, suggesting a moderate balance between precision and recall.\n",
    "- The overall accuracy of 81% is decent, but it's important to consider the context of the problem. Missing preeclampsia cases (low recall for class 1) might be more concerning than misclassifying non-preeclampsia cases (high precision for class 0).\n",
    "\n",
    "Note: For explaination on `classification_report` look into [`Supplementary Content`](#classification-report) section."
   ]
  },
  {
   "cell_type": "markdown",
   "metadata": {},
   "source": [
    "# Best model"
   ]
  },
  {
   "cell_type": "markdown",
   "metadata": {},
   "source": [
    "Although accuracy might not be the best measurement to assess [model performance](#classification-metrics) of this problem, given the time constrains, lets stick to that, and find the best performing model."
   ]
  },
  {
   "cell_type": "code",
   "execution_count": 56,
   "metadata": {},
   "outputs": [
    {
     "data": {
      "text/html": [
       "<div>\n",
       "<style scoped>\n",
       "    .dataframe tbody tr th:only-of-type {\n",
       "        vertical-align: middle;\n",
       "    }\n",
       "\n",
       "    .dataframe tbody tr th {\n",
       "        vertical-align: top;\n",
       "    }\n",
       "\n",
       "    .dataframe thead th {\n",
       "        text-align: right;\n",
       "    }\n",
       "</style>\n",
       "<table border=\"1\" class=\"dataframe\">\n",
       "  <thead>\n",
       "    <tr style=\"text-align: right;\">\n",
       "      <th></th>\n",
       "      <th>Model</th>\n",
       "      <th>Accuracy</th>\n",
       "    </tr>\n",
       "  </thead>\n",
       "  <tbody>\n",
       "    <tr>\n",
       "      <th>0</th>\n",
       "      <td>linear discriminant</td>\n",
       "      <td>0.898438</td>\n",
       "    </tr>\n",
       "    <tr>\n",
       "      <th>1</th>\n",
       "      <td>logistic discriminant</td>\n",
       "      <td>0.921875</td>\n",
       "    </tr>\n",
       "    <tr>\n",
       "      <th>2</th>\n",
       "      <td>sklearn_LR_liblinear</td>\n",
       "      <td>0.844961</td>\n",
       "    </tr>\n",
       "    <tr>\n",
       "      <th>3</th>\n",
       "      <td>sklearn_LR_lbfgs</td>\n",
       "      <td>0.844961</td>\n",
       "    </tr>\n",
       "  </tbody>\n",
       "</table>\n",
       "</div>"
      ],
      "text/plain": [
       "                   Model  Accuracy\n",
       "0    linear discriminant  0.898438\n",
       "1  logistic discriminant  0.921875\n",
       "2   sklearn_LR_liblinear  0.844961\n",
       "3       sklearn_LR_lbfgs  0.844961"
      ]
     },
     "execution_count": 56,
     "metadata": {},
     "output_type": "execute_result"
    }
   ],
   "source": [
    "pd.DataFrame([test_results]).T.reset_index().rename(columns={\n",
    "    'index': \"Model\",\n",
    "    0: \"Accuracy\"\n",
    "})"
   ]
  },
  {
   "cell_type": "code",
   "execution_count": 57,
   "metadata": {},
   "outputs": [
    {
     "name": "stdout",
     "output_type": "stream",
     "text": [
      "\u001b[1mBest model (by accuracy): `logistic discriminant`, with a score of: 0.9219\u001b[0m"
     ]
    }
   ],
   "source": [
    "best_model: str = max(test_results, key=lambda item: item[1])\n",
    "bold_print(\n",
    "    f\"Best model (by accuracy): `{best_model}`, with a score of: {test_results.get(best_model):.4f}\"\n",
    ")"
   ]
  },
  {
   "cell_type": "markdown",
   "metadata": {},
   "source": [
    "It seems like the from-scratch logistic regression model beats scikit-learn's `LogisticRegression` for the given metric (Accuracy)! \n",
    "\n",
    "*Take that info with a grain of salt. I will revisit this after the semester is over*. Being said that:\n",
    "\n",
    ">> **This model is helpful for predicting pregnency risk**, which can be useful for early intervention."
   ]
  },
  {
   "cell_type": "markdown",
   "metadata": {},
   "source": [
    "# Potential Enhancements for Further Exploration\n",
    "\n",
    "This section outlines potential avenues to refine the current analysis:\n",
    "\n",
    "- Feature Engineering:\n",
    "\n",
    "    * **Scaling:** Standardize or normalize features to ensure consistent contribution during model training.\n",
    "    * **Outlier Handling:** Consider robust outlier removal techniques to address data inconsistencies, so that it conforms more to the [Logistic Regression preconditions](#logistic).\n",
    "    * **Feature Creation:** Explore crafting new features to capture latent relationships within the data.\n",
    "    * **Binning:** Discretize continuous features for models that perform better with categorical data.\n",
    "    * **Dimensionality Reduction:** Utilize PCA to identify key underlying factors if dealing with high-dimensional data. This is are relative small dataset. still PCA can be useful to isolate most useful features\n",
    "\n",
    "\n",
    "- Addressing Class Imbalance:\n",
    "\n",
    "    * **Techniques:** Implement strategies like <b>oversampling</b> or <b>undersampling</b> to balance skewed class distributions.\n",
    "\n",
    "- Alternative Models:\n",
    "\n",
    "    * **Multinomial Logistic Regression:** Evaluate this model for multi-class classification tasks with interpretable coefficients.\n",
    "    * **Random Forests (RF) & Support Vector Machines (SVM):** Explore these models for potential performance improvements based on data characteristics. (Observation size is too small for NeuralNet models IMHO)\n",
    "\n",
    "Data enrichment is also a possibility (but highly unlikely):\n",
    "- [gestational age](https://medlineplus.gov/ency/article/002367.htm#:~:text=Gestational%20age%20is%20the%20common,from%2038%20to%2042%20weeks.)  could be a important factor. \n",
    "- More features describing the observation will be useful for analysis, e.g. social determinents of health, medical and test reports (EHR records)."
   ]
  },
  {
   "cell_type": "markdown",
   "metadata": {},
   "source": [
    "*Fin!*\n",
    "___"
   ]
  },
  {
   "cell_type": "markdown",
   "metadata": {
    "collapsed": true
   },
   "source": [
    "# Supplementary Content\n",
    "\n",
    "Contains explainers of some content mentioned in the analysis."
   ]
  },
  {
   "cell_type": "markdown",
   "metadata": {},
   "source": [
    "<a id='classification-metrics'></a>\n",
    "## Classification Metrics:\n",
    "\n",
    "- `Accuracy`: This is the overall percentage of correctly classified instances (both positive and negative cases). It's a good starting point, but it can be misleading in imbalanced datasets.\n",
    "\n",
    "- `Precision`:  This metric represents the ratio of true positives (correctly predicted positive cases) to all predicted positive cases. It tells you how often the model predicted \"positive\" and it was actually correct. A high precision for a class is good, especially when dealing with the cost of misclassifying that class (e.g., false positives in medical diagnosis).\n",
    "\n",
    "- `Recall`: This metric represents the ratio of true positives to all actual positive cases. It tells you how often the model identified all the actual positive cases (without missing any). A high recall is important when it's crucial to capture most of the positive cases (e.g., identifying fraudulent transactions).\n",
    "\n",
    "- `F1-score`: This is the harmonic mean of precision and recall, combining their information into a single metric. A high F1-score indicates a good balance between precision and recall.\n",
    "\n",
    "- `AUC-ROC` (Area Under the Receiver Operating Characteristic Curve):  This metric is particularly useful for imbalanced datasets. It measures the model's ability to distinguish between positive and negative cases. An AUC-ROC closer to 1 indicates better performance."
   ]
  },
  {
   "cell_type": "markdown",
   "metadata": {},
   "source": [
    "<a id='classification-report'></a>\n",
    "## Classification report\n",
    "\n",
    "Columns:\n",
    "\n",
    "- `precision`: This represents the ratio of true positives (correctly predicted positive cases) to all predicted positive cases. In simpler terms, it tells you how often the model predicted \"positive\" and it was actually correct. A high precision for a class (e.g., class 0 in this case) means the model rarely makes false positive predictions for that class.\n",
    "- `recall`: This represents the ratio of true positives to all actual positive cases. It tells you how often the model identified all the actual positive cases (without missing any). A high recall for a class means the model is good at capturing most of the actual positive cases.\n",
    "- `f1-score`: This is a harmonic mean between precision and recall, combining their information into a single metric. A high F1-score indicates a good balance between precision and recall.\n",
    "- `support`: This shows the total number of true instances for each class in the test data. In this case, there are 67 instances of class 0 and 19 instances of class 1.\n",
    "\n",
    "Rows:\n",
    "\n",
    "- `0 & 1`: These represent the two classes in your classification problem. The labels might not be explicitly mentioned here, but they should correspond to the class labels used during model training. In this case, we can assume class 0 represents negative cases and class 1 represents positive cases (based on the context of preeclampsia prediction).\n",
    "- `accuracy`: This is the overall accuracy of the model, which is the percentage of correctly predicted cases across both classes. Here, the accuracy is 81%, meaning the model correctly classified 81% of the instances in the test data.\n",
    "- `macro avg`: This is the average of the precision, recall, and F1-score across all classes, treating each class equally. Here, it provides a general overview of the model's performance.\n",
    "- `weighted avg`: This is a weighted average of the precision, recall, and F1-score, where the weights are based on the number of instances in each class. It takes into account class imbalance if present."
   ]
  },
  {
   "cell_type": "markdown",
   "metadata": {},
   "source": [
    "## Logistic Regression preconditions:\n",
    "<a id='logistic'></a>\n",
    "- `Independent Observations`: Similar to regression, logistic regression also assumes independence of observations. This means the outcome for one observation shouldn't be influenced by the outcome of another.\n",
    "\n",
    "- `Binary Dependent Variable`: Logistic regression is specifically designed for binary classification problems, where the dependent variable has only two categories (e.g., success/failure, alive/dead).\n",
    "\n",
    "- `Linearity in the Logits`: While the relationship between the independent variables and the dependent variable (probability) isn't necessarily linear, logistic regression assumes a linear relationship between the independent variables and the log odds (logit) of the dependent variable. The logit transformation helps model the probability function.\n",
    "\n",
    "- `No Perfect Separation`: The data shouldn't have a complete separation between the classes based on the independent variables. This means there shouldn't be a combination of independent variable values that perfectly predicts all observations to belong to one class or the other.\n",
    "\n",
    "- `Large Enough Sample Size` (Especially for Rare Events):  Logistic regression can be sensitive to sample size, particularly when dealing with rare events (one of the classes has a very low proportion). A larger sample size helps ensure more reliable estimates of the model coefficients.\n"
   ]
  },
  {
   "cell_type": "markdown",
   "metadata": {},
   "source": [
    "Click [Here](#top) to go to the beginning of the notebook."
   ]
  }
 ],
 "metadata": {
  "kernelspec": {
   "display_name": "Python 3.8",
   "language": "python",
   "name": "python38"
  },
  "language_info": {
   "codemirror_mode": {
    "name": "ipython",
    "version": 3
   },
   "file_extension": ".py",
   "mimetype": "text/x-python",
   "name": "python",
   "nbconvert_exporter": "python",
   "pygments_lexer": "ipython3",
   "version": "3.8.7"
  },
  "toc": {
   "base_numbering": 1,
   "nav_menu": {},
   "number_sections": true,
   "sideBar": true,
   "skip_h1_title": false,
   "title_cell": "Table of Contents",
   "title_sidebar": "Contents",
   "toc_cell": false,
   "toc_position": {
    "height": "630px",
    "left": "152px",
    "top": "107px",
    "width": "370px"
   },
   "toc_section_display": true,
   "toc_window_display": true
  }
 },
 "nbformat": 4,
 "nbformat_minor": 2
}
